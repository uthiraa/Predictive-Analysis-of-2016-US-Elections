{
 "cells": [
  {
   "cell_type": "code",
   "execution_count": 35,
   "metadata": {},
   "outputs": [],
   "source": [
    "# Project 02 (Template)"
   ]
  },
  {
   "cell_type": "code",
   "execution_count": 1,
   "metadata": {},
   "outputs": [],
   "source": [
    "# load libraries\n",
    "import pandas as pd\n",
    "import matplotlib.pyplot as plt\n",
    "import seaborn as sns\n",
    "import statsmodels.formula.api as smf\n",
    "from sklearn import linear_model\n",
    "from sklearn.model_selection import train_test_split, KFold, cross_val_score\n",
    "from sklearn.preprocessing import scale, StandardScaler"
   ]
  },
  {
   "cell_type": "code",
   "execution_count": 2,
   "metadata": {},
   "outputs": [],
   "source": [
    "# read data\n",
    "data_train = pd.read_csv('merged_train.csv')\n",
    "data_test = pd.read_csv('demographics_test.csv')"
   ]
  },
  {
   "cell_type": "code",
   "execution_count": 3,
   "metadata": {},
   "outputs": [],
   "source": [
    "x = data_train[data_train.columns[0:41]]\n",
    "y = data_train['Democratic']\n",
    "\n"
   ]
  },
  {
   "cell_type": "markdown",
   "metadata": {},
   "source": [
    "# Task1"
   ]
  },
  {
   "cell_type": "code",
   "execution_count": 4,
   "metadata": {},
   "outputs": [
    {
     "name": "stdout",
     "output_type": "stream",
     "text": [
      "[1903, 212]\n",
      "[1903, 212]\n",
      "[1903, 212]\n",
      "[1903, 212]\n",
      "[1903, 212]\n",
      "[1904, 211]\n",
      "[1904, 211]\n",
      "[1904, 211]\n",
      "[1904, 211]\n",
      "[1904, 211]\n"
     ]
    }
   ],
   "source": [
    "folds = KFold(n_splits = 10, shuffle = False)\n",
    "for train_index, test_index in folds.split(data_train):\n",
    "    print([train_index.shape[0], test_index.shape[0]])"
   ]
  },
  {
   "cell_type": "markdown",
   "metadata": {},
   "source": [
    "## Applied 10 fold cross validation"
   ]
  },
  {
   "cell_type": "code",
   "execution_count": 5,
   "metadata": {},
   "outputs": [],
   "source": [
    "#Standardizing:\n",
    "category = x.select_dtypes(include=['object'])\n",
    "x= x.drop(['County','State'], axis=1)\n",
    "x.columns\n",
    "x1=x\n",
    "cols = x.columns"
   ]
  },
  {
   "cell_type": "markdown",
   "metadata": {},
   "source": [
    "# Task 2"
   ]
  },
  {
   "cell_type": "code",
   "execution_count": 6,
   "metadata": {},
   "outputs": [],
   "source": [
    "scaler = StandardScaler()\n",
    "scaler.fit(x)\n",
    "x = scaler.transform(x) \n"
   ]
  },
  {
   "cell_type": "code",
   "execution_count": 7,
   "metadata": {},
   "outputs": [
    {
     "data": {
      "text/plain": [
       "array([[-0.21198644, -0.20971993, -0.43727155, ..., -0.64563528,\n",
       "        -0.16165084, -0.40756727],\n",
       "       [-0.23268946, -0.2335666 ,  0.18258725, ..., -0.53773518,\n",
       "        -0.20230552, -0.29710535],\n",
       "       [-0.05543203, -0.05873583,  1.086548  , ..., -0.12134922,\n",
       "         0.03242815, -0.46511795],\n",
       "       ...,\n",
       "       [ 2.37252743,  2.42891121,  0.49251665, ...,  1.04456646,\n",
       "         3.45572909, -0.50272632],\n",
       "       [-0.2635784 , -0.26681094,  0.95741075, ..., -0.42861093,\n",
       "        -0.19366502, -0.50848212],\n",
       "       [ 2.98073415,  2.75070234,  3.10108909, ...,  0.70495221,\n",
       "         0.89337676,  0.01659985]])"
      ]
     },
     "execution_count": 7,
     "metadata": {},
     "output_type": "execute_result"
    }
   ],
   "source": [
    "x"
   ]
  },
  {
   "cell_type": "code",
   "execution_count": 8,
   "metadata": {},
   "outputs": [
    {
     "name": "stdout",
     "output_type": "stream",
     "text": [
      "{'2014 Population': 0.9170280360359472, '2010 Population': 0.9222997841159737, 'Population Percent Change': 0.19647463921731934, 'Percent Under 5 Years': 0.06700319094545581, 'Percent Under 18 Years': 0.01750524976291883, 'Percent 65 and Older': 0.18705202468342683, 'Percent Female': 0.11625911059808158, 'Percent White': 0.1760189858992344, 'Percent Black or African American': 0.10394094900362748, 'Percent American Indian and Alaska Native': 0.02919767948191654, 'Percent Asian': 0.4460593727958007, 'Percent Native Hawaiian and Other Pacific Islander': 0.044413574462591504, 'Percent Two or More Races': 0.11233367925744914, 'Percent Hispanic or Latino': 0.14807492551719198, 'Percent White, not Hispanic or Latino': 0.23184469526213475, 'Veterans': 0.8180566444583521, 'Percent Foreign Born': 0.42832455426864974, 'Percent High School or Higher': 0.07229753450036613, \"Percent Bachelor's Degree or Higher\": 0.30497530639008824, 'Housing Units': 0.9124961561310577, 'Percent Housing Units in Multi-Unit Structures': 0.43635473593491675, 'Homeownership Rate': 0.27786615524986524, 'Median Value of Owner-Occupied Units': 0.3153978045837808, 'Building Permits': 0.6077119356575374, 'Households': 0.9208453699610053, 'Persons per Household': 0.11453276901257069, 'Percent Living in Same House +1 Years': 0.0866579138131413, 'Percent Language Other than English at Home': 0.27234757762686784, 'Mean Travel Time to Work': 0.11829651953696521, 'Median Household Income': 0.2194115240372906, 'Per Capita Income': 0.24888219127962222, 'Percent Below Poverty Level': 0.056773261343787955, 'Accommodation and Food Services Sales': 0.7095364090204861, 'Manufacturers Shipments': 0.7552626205083582, 'Merchant Wholesaler Sales': 0.7742889492274352, 'Retail Sales': 0.8874040768870053, 'Retail Sales per Capita': 0.12651802826025377, 'Population per Square Mile': 0.44748179177185976, 'Land Area': 0.07131100826523407}\n"
     ]
    }
   ],
   "source": [
    "corr_dict = {}\n",
    "for c in cols:\n",
    "    corr_dict[c] = abs(x1[c].corr(data_train['Democratic']))\n",
    "print (corr_dict)"
   ]
  },
  {
   "cell_type": "code",
   "execution_count": 9,
   "metadata": {},
   "outputs": [
    {
     "data": {
      "text/plain": [
       "[('Percent Under 18 Years', 0.01750524976291883),\n",
       " ('Percent American Indian and Alaska Native', 0.02919767948191654),\n",
       " ('Percent Native Hawaiian and Other Pacific Islander', 0.044413574462591504),\n",
       " ('Percent Below Poverty Level', 0.056773261343787955),\n",
       " ('Percent Under 5 Years', 0.06700319094545581),\n",
       " ('Land Area', 0.07131100826523407),\n",
       " ('Percent High School or Higher', 0.07229753450036613),\n",
       " ('Percent Living in Same House +1 Years', 0.0866579138131413),\n",
       " ('Percent Black or African American', 0.10394094900362748),\n",
       " ('Percent Two or More Races', 0.11233367925744914),\n",
       " ('Persons per Household', 0.11453276901257069),\n",
       " ('Percent Female', 0.11625911059808158),\n",
       " ('Mean Travel Time to Work', 0.11829651953696521),\n",
       " ('Retail Sales per Capita', 0.12651802826025377),\n",
       " ('Percent Hispanic or Latino', 0.14807492551719198),\n",
       " ('Percent White', 0.1760189858992344),\n",
       " ('Percent 65 and Older', 0.18705202468342683),\n",
       " ('Population Percent Change', 0.19647463921731934),\n",
       " ('Median Household Income', 0.2194115240372906),\n",
       " ('Percent White, not Hispanic or Latino', 0.23184469526213475),\n",
       " ('Per Capita Income', 0.24888219127962222),\n",
       " ('Percent Language Other than English at Home', 0.27234757762686784),\n",
       " ('Homeownership Rate', 0.27786615524986524),\n",
       " (\"Percent Bachelor's Degree or Higher\", 0.30497530639008824),\n",
       " ('Median Value of Owner-Occupied Units', 0.3153978045837808),\n",
       " ('Percent Foreign Born', 0.42832455426864974),\n",
       " ('Percent Housing Units in Multi-Unit Structures', 0.43635473593491675),\n",
       " ('Percent Asian', 0.4460593727958007),\n",
       " ('Population per Square Mile', 0.44748179177185976),\n",
       " ('Building Permits', 0.6077119356575374),\n",
       " ('Accommodation and Food Services Sales', 0.7095364090204861),\n",
       " ('Manufacturers Shipments', 0.7552626205083582),\n",
       " ('Merchant Wholesaler Sales', 0.7742889492274352),\n",
       " ('Veterans', 0.8180566444583521),\n",
       " ('Retail Sales', 0.8874040768870053),\n",
       " ('Housing Units', 0.9124961561310577),\n",
       " ('2014 Population', 0.9170280360359472),\n",
       " ('Households', 0.9208453699610053),\n",
       " ('2010 Population', 0.9222997841159737)]"
      ]
     },
     "execution_count": 9,
     "metadata": {},
     "output_type": "execute_result"
    }
   ],
   "source": [
    "import operator\n",
    "sortedcorr_dict = sorted(corr_dict.items(), key= operator.itemgetter(1))\n",
    "sortedcorr_dict"
   ]
  },
  {
   "cell_type": "markdown",
   "metadata": {},
   "source": [
    "Note: 2010 Popoulation is the best feature"
   ]
  },
  {
   "cell_type": "markdown",
   "metadata": {},
   "source": [
    "# Task 3"
   ]
  },
  {
   "cell_type": "code",
   "execution_count": 10,
   "metadata": {},
   "outputs": [
    {
     "name": "stdout",
     "output_type": "stream",
     "text": [
      "[0.73451773 0.63442533 0.76060198 0.8311719  0.71394433 0.84587153\n",
      " 0.93193357 0.7449996  0.69965977 0.84739669]\n",
      "[0.7744522426399849, 0.08363958664458077]\n"
     ]
    }
   ],
   "source": [
    "model = linear_model.LinearRegression()\n",
    "scores = cross_val_score(model, X = data_train[['2010 Population']], y = data_train['Democratic'], cv = folds)\n",
    "print(scores)\n",
    "print([scores.mean(), scores.std()])"
   ]
  },
  {
   "cell_type": "code",
   "execution_count": 11,
   "metadata": {},
   "outputs": [
    {
     "name": "stdout",
     "output_type": "stream",
     "text": [
      "0.8506368917803713\n"
     ]
    }
   ],
   "source": [
    "# train and test simple linear regression model (Democratic votes)\n",
    "model = linear_model.LinearRegression().fit(X = data_train[['2010 Population']], y = data_train['Democratic'])\n",
    "r_squared = model.score(X = data_train[['2010 Population']], y = data_train['Democratic'])\n",
    "print(r_squared)"
   ]
  },
  {
   "cell_type": "code",
   "execution_count": 12,
   "metadata": {},
   "outputs": [
    {
     "name": "stdout",
     "output_type": "stream",
     "text": [
      "[0.73705239 0.59143458 0.72597982 0.88291232 0.73294003 0.84321171\n",
      " 0.902528   0.78665565 0.732226   0.87600204]\n",
      "[0.7810942544728345, 0.09146861823049059]\n"
     ]
    }
   ],
   "source": [
    "# Testing with multiple features:\n",
    "#With Households:\n",
    "\n",
    "model = linear_model.LinearRegression()\n",
    "scores = cross_val_score(model, X = data_train[['Households']], y = data_train['Democratic'], cv = folds)\n",
    "print(scores)\n",
    "print([scores.mean(), scores.std()])"
   ]
  },
  {
   "cell_type": "code",
   "execution_count": 13,
   "metadata": {},
   "outputs": [
    {
     "name": "stdout",
     "output_type": "stream",
     "text": [
      "0.8479561953786217\n"
     ]
    }
   ],
   "source": [
    "# train and test simple linear regression model (Democratic votes)\n",
    "model = linear_model.LinearRegression().fit(X = data_train[['Households']], y = data_train['Democratic'])\n",
    "r_squared = model.score(X = data_train[['Households']], y = data_train['Democratic'])\n",
    "print(r_squared)"
   ]
  },
  {
   "cell_type": "code",
   "execution_count": 14,
   "metadata": {},
   "outputs": [
    {
     "name": "stdout",
     "output_type": "stream",
     "text": [
      "[0.70469798 0.6199373  0.73642071 0.82636984 0.70207372 0.84598275\n",
      " 0.92150053 0.72944503 0.69255693 0.8293083 ]\n",
      "[0.7608293083046329, 0.08645614943642453]\n"
     ]
    }
   ],
   "source": [
    "# Testing with 2014 Population:\n",
    "model = linear_model.LinearRegression()\n",
    "scores = cross_val_score(model, X = data_train[['2014 Population']], y = data_train['Democratic'], cv = folds)\n",
    "print(scores)\n",
    "print([scores.mean(), scores.std()])"
   ]
  },
  {
   "cell_type": "code",
   "execution_count": 15,
   "metadata": {},
   "outputs": [
    {
     "name": "stdout",
     "output_type": "stream",
     "text": [
      "0.8409404188759462\n"
     ]
    }
   ],
   "source": [
    "# train and test simple linear regression model (Democratic votes)\n",
    "model = linear_model.LinearRegression().fit(X = data_train[['2014 Population']], y = data_train['Democratic'])\n",
    "r_squared = model.score(X = data_train[['2014 Population']], y = data_train['Democratic'])\n",
    "print(r_squared)"
   ]
  },
  {
   "cell_type": "markdown",
   "metadata": {},
   "source": [
    "The best feature is 2010 population as the r_squared value for it is the highest among others."
   ]
  },
  {
   "cell_type": "code",
   "execution_count": 119,
   "metadata": {},
   "outputs": [],
   "source": [
    "model = linear_model.LinearRegression().fit(X = data_train[['2010 Population']].values, y = data_train['Democratic'].values)\n",
    "\n",
    "y_pred = model.predict(data_test[['2010 Population']].values)"
   ]
  },
  {
   "cell_type": "code",
   "execution_count": 17,
   "metadata": {},
   "outputs": [
    {
     "data": {
      "text/plain": [
       "array([ 6.22195493e+02,  2.75073689e+02,  1.18351660e+04,  8.41702996e+02,\n",
       "        1.32362874e+04, -2.04116191e+02,  4.23411679e+02,  2.03776893e+03,\n",
       "       -3.95991796e+01,  5.31574797e+02, -2.67741554e+02,  3.58414700e+04,\n",
       "        5.44999717e+03,  7.10680163e+03,  1.37052066e+03,  2.69356464e+03,\n",
       "        1.26535702e+03,  2.01131896e+03,  3.58677385e+03,  6.58552843e+02,\n",
       "        4.37811882e+04,  2.94397590e+03,  6.29403306e+03,  3.50842376e+03,\n",
       "       -1.32764890e+02,  8.17316272e+03,  8.71043347e+03,  4.79701916e+03,\n",
       "        6.53553708e+02,  3.02050812e+03, -2.79648586e+02, -3.17096657e+02,\n",
       "        1.32298342e+03,  1.78863019e+03,  1.32461982e+02,  9.90586347e+02,\n",
       "        2.90943641e+03,  1.25315728e+05,  8.17334451e+03,  1.65783462e+03,\n",
       "        4.73630238e+03,  1.45456064e+04,  1.70273626e+02,  1.10647540e+03,\n",
       "        5.08215199e+02,  1.86176297e+04,  3.82327842e+03,  4.22494530e+04,\n",
       "        1.97450714e+03,  3.13871492e+04,  2.71692424e+03,  5.80084560e+03,\n",
       "        1.07748041e+03, -1.47671404e+02,  3.85581825e+03,  3.87327009e+02,\n",
       "        1.54276361e+03,  6.53599123e+03,  6.42428327e+03,  6.27085525e+03,\n",
       "        7.27268236e+02, -1.23130192e+02,  9.22061799e+03,  8.30159850e+01,\n",
       "        3.94443929e+03, -8.71364153e+01,  9.31051497e+01,  1.71600638e+03,\n",
       "        6.17083615e+04,  2.59803602e+02,  9.93494935e+02,  4.41626680e+03,\n",
       "        1.06639142e+03,  8.07345300e+02,  1.61493295e+03,  1.24780548e+04,\n",
       "        1.57112234e+03,  1.33236359e+04,  6.75913478e+02,  1.13813353e+04,\n",
       "        1.30371434e+02,  3.20120415e+03,  1.44650752e+03,  4.04524004e+03,\n",
       "        1.85361895e+03,  1.39103526e+04,  7.21360166e+02,  8.31341151e+02,\n",
       "        1.67365038e+02,  2.53977305e+03,  2.84890174e+02,  4.61066044e+04,\n",
       "        4.00661036e+03,  1.44614395e+03,  9.21425545e+03,  2.05722012e+03,\n",
       "        1.94678466e+03,  8.22251814e+02,  7.21920944e+04, -2.69559421e+02,\n",
       "        8.41612072e+03,  3.94016730e+03,  1.47684770e+04, -3.10370547e+02,\n",
       "        3.92293388e+04, -2.52380261e+01, -4.36893815e+01,  2.10121251e+03,\n",
       "        1.00271149e+04,  1.57448540e+03,  3.35568650e+04, -5.04791479e+02,\n",
       "        8.57430984e+00, -4.11353088e+02,  2.77282367e+03,  2.91525390e+02,\n",
       "        1.01839972e+03,  2.02804334e+03,  1.16591967e+03,  3.45815972e+03,\n",
       "       -2.35383512e+02,  2.06317360e+04,  1.31243979e+03,  9.34714157e+03,\n",
       "        7.30549455e+03,  1.18240770e+04,  1.39278954e+03, -2.11387661e+02,\n",
       "        4.40645032e+03,  1.97368910e+03,  4.44262588e+03,  5.55661854e+01,\n",
       "        4.19648662e+03, -5.18243699e+02,  1.56185122e+03,  1.18605252e+04,\n",
       "        2.44300793e+04,  1.08246134e+04,  4.85210054e+03,  7.13270656e+02,\n",
       "        1.66328822e+03,  7.39266474e+01,  3.96098188e+03,  1.74609209e+03,\n",
       "        4.09541319e+03,  8.81241584e+03,  3.77216904e+04,  1.32007484e+03,\n",
       "        1.15064958e+03,  1.35154209e+05,  1.84216639e+03,  1.85452820e+02,\n",
       "        2.79291110e+03,  3.16875521e+03,  2.55495224e+03,  5.07669839e+02,\n",
       "       -3.65996981e+01,  1.04285004e+03,  1.03966877e+03,  1.30398671e+03,\n",
       "        4.63304751e+03,  1.93794071e+04,  3.19184213e+03,  1.07393557e+03,\n",
       "       -2.10751407e+02,  8.39252309e+00,  2.98751382e+03, -2.15205182e+02,\n",
       "        2.78682125e+03, -4.39984502e+02,  1.64510955e+03,  8.58336484e+02,\n",
       "        2.65257204e+02,  4.70403554e+02,  3.45516056e+02,  1.11829185e+02,\n",
       "        1.62965767e+03,  6.28721606e+03,  1.93914962e+03,  4.73566613e+03,\n",
       "        4.89491163e+02,  4.46598548e+03,  5.78130353e+03,  1.41644905e+04,\n",
       "        9.71107865e+03,  1.85089246e+02,  8.33431699e+02,  6.27694511e+03,\n",
       "        8.66971355e+02,  8.82650431e+03,  8.91603460e+02,  1.27294659e+04,\n",
       "        1.77154224e+03,  7.87339637e+03,  2.44897088e+02,  1.55730655e+03,\n",
       "        6.83930243e+03,  4.92490614e+03,  6.65606138e+03, -3.69723922e+02,\n",
       "        2.81623431e+04,  2.09130513e+03,  4.03960496e+02,  3.74329256e+02,\n",
       "        9.89768306e+02,  2.70256652e+01,  3.66166999e+03,  3.23438023e+03,\n",
       "        1.25435892e+03,  2.23028111e+03,  4.38963504e+03,  4.89200273e+03,\n",
       "        9.75679833e+02,  6.93365006e+02,  2.54413593e+03,  1.42016659e+04,\n",
       "       -3.85448476e+02,  3.42078434e+04,  1.30462327e+02,  1.68146690e+03,\n",
       "        2.41415841e+03,  3.40026064e+03,  2.95313792e+04,  6.42455595e+03,\n",
       "        2.93888618e+02,  1.76036235e+03,  4.06550926e+03, -1.62668811e+02,\n",
       "        4.64586378e+02,  1.27391006e+04,  6.83775724e+03,  3.81237152e+02,\n",
       "        4.34327942e+03,  1.91533556e+03, -4.62253379e+02,  1.05993796e+04,\n",
       "        3.42971041e+02,  2.80804482e+04,  2.83035917e+03, -2.70286568e+02,\n",
       "        9.28506171e+02,  1.39369847e+03,  1.43932695e+03,  4.45589663e+02,\n",
       "        6.94810180e+03,  3.45752347e+03,  4.56951304e+03,  6.95510059e+03,\n",
       "        4.62531245e+04, -2.06206738e+02,  2.01831775e+03,  3.83236807e+02,\n",
       "        9.10481983e+03,  1.22190999e+03,  2.87371532e+03,  1.07893471e+03,\n",
       "        1.65847088e+03,  2.64186446e+04,  6.21277438e+03,  2.40788676e+03,\n",
       "        3.39517093e+02,  3.25637643e+03,  6.47210225e+04, -1.17494803e+02,\n",
       "        1.51367804e+02,  1.72882235e+03,  2.35716826e+03,  7.16992705e+04,\n",
       "        3.41062280e+02,  5.07797058e+03,  2.59785392e+03,  1.21091189e+03,\n",
       "        1.47004891e+03,  8.27522686e+04,  1.01512756e+03, -2.46926659e+01,\n",
       "        6.89002124e+02,  8.25932964e+03,  7.93011384e+03,  3.51242338e+02,\n",
       "        9.48593607e+02,  9.77352240e+03,  1.32789167e+03,  3.88418041e+01,\n",
       "        2.04840346e+03,  2.30026900e+03,  3.22601804e+03,  2.37404713e+04,\n",
       "        1.77146949e+04,  3.26846525e+03, -5.11426383e+01,  4.82879545e+04,\n",
       "        6.91365352e+02,  7.82631360e+03,  2.71265225e+03,  5.62205864e+02,\n",
       "        1.71505197e+04,  3.27321894e+04,  3.01487273e+03,  1.16040241e+04,\n",
       "        5.62569438e+02, -4.37802749e+01,  4.71021598e+03,  4.05196615e+03,\n",
       "        1.85345531e+04,  2.79300200e+03,  1.85770916e+03, -1.85119163e+01,\n",
       "        1.88488628e+03,  2.32226520e+03,  4.81827909e+04,  3.36899332e+03,\n",
       "        3.52696601e+03,  2.43197351e+03,  3.50515191e+02, -5.23151941e+02,\n",
       "        6.52308437e+03,  8.10208410e+03,  2.28081813e+02,  2.09530444e+03,\n",
       "        3.80812646e+04,  1.02177183e+04,  1.93051475e+03,  2.58985561e+02,\n",
       "        1.23463506e+03,  3.36517611e+02,  5.78475779e+02,  5.30883976e+03,\n",
       "        3.95870986e+02,  4.69031033e+03,  2.49259970e+02,  6.34375205e+02,\n",
       "        1.34179835e+03,  5.17595364e+03,  4.45021545e+04,  1.27726406e+03,\n",
       "        2.03122461e+03,  2.88435327e+01,  9.05146573e+02,  5.79202926e+02,\n",
       "        7.49264402e+03,  7.68261148e+02,  1.10553008e+04,  3.87050658e+04,\n",
       "        3.27155594e+02,  1.86000873e+04,  2.32681893e+04,  4.34182513e+03,\n",
       "        1.53940055e+03,  1.55885173e+03,  5.73040324e+03,  5.89655664e+02,\n",
       "        1.04233191e+04,  4.02055337e+04,  2.91225411e+03,  5.68059367e+03,\n",
       "        6.46709405e+03, -4.59981045e+02,  1.84452993e+02,  1.19106075e+04,\n",
       "        8.50410551e+03,  5.23939753e+02,  1.22981771e+03,  1.05165212e+05,\n",
       "        2.64701811e+04,  2.02661629e+04,  3.95573730e+04,  2.03958680e+03,\n",
       "        1.52522119e+03,  2.57322181e+03,  2.44585289e+04,  5.51116873e+02,\n",
       "        1.30734976e+03,  2.77164237e+02,  5.45208772e+03,  1.34734316e+02,\n",
       "        1.03916883e+04,  6.97818782e+02,  2.19265156e+02,  1.73036754e+03,\n",
       "       -4.05354126e+02,  3.33048177e+04,  3.91435358e+03,  1.09202335e+03,\n",
       "        5.84002065e+03,  3.89326663e+02,  7.33267199e+02,  2.15420335e+03,\n",
       "        9.41958390e+02,  3.48697324e+02,  4.49352617e+03,  3.48570948e+04,\n",
       "        2.64348239e+03,  9.77043234e+02,  1.10356681e+03,  1.88070518e+03,\n",
       "        1.88315930e+03, -2.05934058e+02,  2.62439478e+03,  5.90582745e+03,\n",
       "        1.33243633e+03,  1.36985711e+04, -1.80847486e+02,  9.99403004e+02,\n",
       "        4.62877552e+03,  5.87928690e+02,  6.71377867e+03,  1.39916113e+04,\n",
       "        1.35567774e+04,  1.36843011e+03,  1.39088078e+03,  2.34553391e+03,\n",
       "        1.56866822e+03,  1.09129621e+03,  1.48315570e+04,  1.04248646e+03,\n",
       "        5.85656668e+01,  2.99151313e+03,  3.76238017e+02,  2.37380175e+03,\n",
       "        3.59579044e+04,  2.03449677e+03,  4.15958391e+03,  1.25772198e+03,\n",
       "        8.15310252e+04,  8.01619017e+02,  2.11260142e+04,  1.13019857e+03,\n",
       "        7.23490673e+04,  1.28189959e+04,  1.29907847e+03,  1.54739917e+03,\n",
       "        7.58899131e+02,  1.47795663e+03,  1.96778103e+03,  1.78254033e+03,\n",
       "       -3.93083520e+02,  2.43750888e+04,  6.21577387e+03,  3.57877555e+02,\n",
       "        1.92506115e+03,  5.05179329e+03,  6.55662403e+03, -3.99446056e+02,\n",
       "       -3.01281210e+02,  7.43965318e+03,  1.42578383e+03,  1.41045009e+04,\n",
       "        1.79802853e+04,  1.02794349e+04,  1.43562755e+04,  4.42681075e+02,\n",
       "        5.32029264e+02, -1.30674343e+02,  1.65365384e+02,  5.45117910e+02,\n",
       "        1.33907152e+04,  6.60643391e+02,  6.47554745e+02,  1.94405786e+03,\n",
       "        1.28162694e+03,  1.99671236e+04,  3.67966719e+02,  2.45533310e+03,\n",
       "       -2.41473056e+01,  5.65023559e+02,  4.16231102e+02, -3.05916772e+02,\n",
       "        3.49969831e+02,  1.52534841e+04,  2.68138493e+03,  2.27081986e+02,\n",
       "        4.18421601e+03,  4.88018660e+03,  4.48398237e+03,  1.28089979e+03,\n",
       "        1.00464752e+04,  5.63784648e+04,  1.88061429e+03, -1.95117434e+01,\n",
       "        2.21720152e+04,  1.91424484e+03,  6.45691399e+03,  6.38574448e+03,\n",
       "       -2.49562879e+02,  8.71970803e+01, -9.95888079e+01,  1.74272935e+02,\n",
       "        4.97044372e+03,  7.05544719e+02, -1.35855265e+02,  2.09366836e+03,\n",
       "        4.95799133e+03,  9.55774184e+02, -3.26822248e+02,  1.55712476e+03,\n",
       "       -3.73268452e+01,  3.31636606e+03,  2.60794308e+03,  9.68862830e+02,\n",
       "        1.27031977e+04,  4.79283806e+03, -3.95174067e+02, -1.19221777e+02,\n",
       "        4.44880663e+03,  1.10612815e+05,  2.73028735e+05,  2.95888241e+03,\n",
       "        3.00560160e+03,  7.86894291e+02,  3.35735894e+04,  1.21336601e+03,\n",
       "        4.61789555e+04,  8.87422677e+01,  1.66641325e+00,  3.65776158e+03,\n",
       "        4.58432866e+03,  1.73473042e+03, -2.34111005e+02,  2.80890865e+02,\n",
       "        1.07325384e+04,  8.63581001e+03,  1.13716097e+04, -1.44217456e+02,\n",
       "        9.87768652e+02,  1.81862500e+03,  2.58966439e+04,  5.15059439e+03,\n",
       "       -1.06224024e+02,  1.64270993e+04,  4.29019769e+03,  1.67065059e+03,\n",
       "       -1.78211578e+02,  4.44034443e+04,  3.18629764e+03,  2.23987033e+04,\n",
       "        5.29847823e+02, -3.52999541e+02,  1.78872108e+03,  1.27179224e+04,\n",
       "        1.75381803e+03,  1.50824227e+04,  3.96898050e+03,  2.98506876e+04,\n",
       "        3.98234214e+02,  3.94272137e+04,  1.98868651e+03,  1.10465753e+03,\n",
       "        8.41430285e+03,  7.57354818e+04,  1.45368841e+02,  1.09920393e+03,\n",
       "        5.73385750e+02,  2.47260316e+02,  2.78437056e+01,  5.02143490e+03,\n",
       "        1.58447455e+04,  1.64720010e+03,  4.32137443e+02,  2.32290146e+03,\n",
       "        4.16994575e+03,  2.14920421e+03, -3.93810667e+02,  1.55986062e+04,\n",
       "        9.81497009e+02,  7.69897229e+02,  4.15049488e+02,  2.95361059e+03,\n",
       "        1.41705807e+03,  3.06222818e+03,  2.21591995e+03,  8.16152837e+03,\n",
       "        1.96369083e+03,  1.04275914e+03,  6.53235550e+03,  5.69922681e+03,\n",
       "        3.30427724e+03,  2.63051188e+04,  8.06785363e+04,  8.74697604e+01,\n",
       "        4.36482115e+03,  6.00290189e+02,  9.52865908e+01,  1.48560982e+04,\n",
       "        6.64097339e+02, -3.11461268e+02,  8.97693285e+03,  1.41714893e+04,\n",
       "        1.71455240e+02,  3.84781994e+02,  9.29415104e+02,  2.42779241e+03,\n",
       "        9.97230621e+03,  2.52602085e+04,  4.82628682e+03,  7.83258555e+02,\n",
       "        1.47021248e+04,  2.66575127e+03,  2.42406578e+03,  5.22712661e+03,\n",
       "        3.13748789e+03,  3.41425854e+02,  1.05093955e+03,  1.48221041e+04,\n",
       "        4.94217619e+02,  2.98078771e+03,  4.10595713e+02,  6.33586216e+04,\n",
       "        1.53713728e+04,  1.83080469e+04,  1.25154123e+03,  5.44663443e+02,\n",
       "        2.39268027e+04,  1.43187369e+03,  5.72931595e+01,  1.73377601e+04,\n",
       "        1.46686764e+03,  2.39325293e+03,  8.17161785e+02,  4.14504128e+02,\n",
       "        1.71364315e+03,  3.33072721e+03, -2.86920056e+02, -5.17152978e+02,\n",
       "        3.11321936e+03,  1.06602785e+03,  1.29098927e+02,  9.11690896e+02,\n",
       "        6.71914170e+02,  1.04266825e+03,  5.03579637e+02,  2.24355185e+02,\n",
       "       -5.16698511e+02,  1.52820246e+04,  1.68537531e+03,  3.53132889e+03,\n",
       "        2.02440761e+03,  1.47359375e+03,  2.35925881e+03,  1.35406896e+03,\n",
       "        4.86855256e+02,  7.78532100e+02,  1.75872627e+03,  1.39096255e+04,\n",
       "        8.59518098e+02,  5.30184097e+03,  1.10002197e+03,  9.16371874e+03,\n",
       "        2.97524353e+02,  3.66221535e+03,  1.13740639e+04,  7.97892389e+02,\n",
       "        1.26388452e+04,  2.14877698e+04,  1.32252896e+03,  3.46452226e+03,\n",
       "        1.00149355e+03,  5.73840529e+01,  9.25324903e+02,  7.83803916e+02,\n",
       "        2.94797864e+01,  1.60266234e+03,  3.33199972e+03,  1.98514167e+03,\n",
       "        9.69408190e+02,  5.96458090e+04,  3.27937245e+03,  4.36573009e+03,\n",
       "        1.09056906e+03,  2.85271895e+03,  1.60893399e+03,  1.28862573e+03,\n",
       "        5.56592255e+04,  3.86745260e+03,  6.78731173e+02,  1.91906250e+02,\n",
       "       -3.11824841e+02,  1.00831056e+03,  3.07895256e+03,  1.14531411e+04,\n",
       "        6.94183047e+02,  7.53736356e+03,  8.49247147e+02,  3.74120170e+03,\n",
       "        2.84162995e+03,  2.76168920e+04,  9.18326113e+02,  2.34871517e+03,\n",
       "        5.18404315e+03,  5.02643404e+03, -1.96753827e+02,  6.20922986e+02,\n",
       "        4.07596231e+02, -6.46857514e+01,  5.21731013e+03,  3.22229141e+03,\n",
       "        8.23815149e+03,  1.42723813e+03,  5.72113211e+03,  4.64204592e+04,\n",
       "        9.43503578e+02, -3.75450205e+02,  4.92845098e+03,  3.23974294e+03,\n",
       "        3.72702233e+03,  2.30981281e+03,  3.73056749e+02,  1.08705327e+05,\n",
       "       -3.57907783e+02,  1.21981944e+03,  2.44615287e+03,  1.88579521e+03])"
      ]
     },
     "execution_count": 17,
     "metadata": {},
     "output_type": "execute_result"
    }
   ],
   "source": [
    "y_pred"
   ]
  },
  {
   "cell_type": "markdown",
   "metadata": {},
   "source": [
    "## For simple linear regression to predict number of votes of Democratic, the best performance is given by the predictor variable 2010 population"
   ]
  },
  {
   "cell_type": "markdown",
   "metadata": {},
   "source": [
    "# Task 4"
   ]
  },
  {
   "cell_type": "code",
   "execution_count": 118,
   "metadata": {},
   "outputs": [
    {
     "name": "stdout",
     "output_type": "stream",
     "text": [
      "0.904157216388376\n"
     ]
    }
   ],
   "source": [
    "# ('Veterans', 0.8180566444583521),\n",
    "#  ('Retail Sales', 0.8874040768870053),\n",
    "#  ('Housing Units', 0.9124961561310577),\n",
    "#  ('2014 Population', 0.9170280360359472),\n",
    "#  ('Households', 0.9208453699610053),\n",
    "#  ('2010 Population', 0.9222997841159737)]\n",
    "model = linear_model.LinearRegression().fit(X = data_train[['2010 Population', 'Households', '2014 Population', 'Housing Units', 'Retail Sales', 'Veterans']], y = data_train['Democratic'])\n",
    "r_squared = model.score(X = data_train[['2010 Population', 'Households', '2014 Population', 'Housing Units', 'Retail Sales', 'Veterans']], y = data_train['Democratic'])\n",
    "print(r_squared)\n",
    "best_dems = model"
   ]
  },
  {
   "cell_type": "code",
   "execution_count": 19,
   "metadata": {},
   "outputs": [
    {
     "name": "stdout",
     "output_type": "stream",
     "text": [
      "0.8947842232390532\n"
     ]
    }
   ],
   "source": [
    "model = linear_model.LinearRegression().fit(X = data_train[['2010 Population', 'Households', '2014 Population', 'Housing Units', 'Retail Sales']], y = data_train['Democratic'])\n",
    "r_squared = model.score(X = data_train[['2010 Population', 'Households', '2014 Population', 'Housing Units', 'Retail Sales']], y = data_train['Democratic'])\n",
    "print(r_squared)"
   ]
  },
  {
   "cell_type": "code",
   "execution_count": 20,
   "metadata": {},
   "outputs": [
    {
     "name": "stdout",
     "output_type": "stream",
     "text": [
      "0.8887283256069811\n"
     ]
    }
   ],
   "source": [
    "model = linear_model.LinearRegression().fit(X = data_train[['2010 Population', 'Households', '2014 Population', 'Housing Units']], y = data_train['Democratic'])\n",
    "r_squared = model.score(X = data_train[['2010 Population', 'Households', '2014 Population', 'Housing Units']], y = data_train['Democratic'])\n",
    "print(r_squared)"
   ]
  },
  {
   "cell_type": "code",
   "execution_count": 21,
   "metadata": {},
   "outputs": [
    {
     "name": "stdout",
     "output_type": "stream",
     "text": [
      "0.8866444724307134\n"
     ]
    }
   ],
   "source": [
    "model = linear_model.LinearRegression().fit(X = data_train[['2010 Population', 'Households', '2014 Population']], y = data_train['Democratic'])\n",
    "r_squared = model.score(X = data_train[['2010 Population', 'Households', '2014 Population']], y = data_train['Democratic'])\n",
    "print(r_squared)"
   ]
  },
  {
   "cell_type": "markdown",
   "metadata": {},
   "source": [
    "## The r-squared value is best for the following 6 features: ['2010 Population', 'Households', '2014 Population', 'Housing Units', 'Retail Sales', 'Veterans']"
   ]
  },
  {
   "cell_type": "code",
   "execution_count": 22,
   "metadata": {},
   "outputs": [
    {
     "name": "stdout",
     "output_type": "stream",
     "text": [
      "0.8945347785335981\n"
     ]
    }
   ],
   "source": [
    "# train and test multiple linear regression model (Democratic votes)\n",
    "#import statsmodel.api as sm\n",
    "model = linear_model.LinearRegression().fit(X = data_train[['2010 Population', 'Households', '2014 Population', 'Housing Units', 'Retail Sales']], y = data_train['Democratic'])\n",
    "r_squared = model.score(X = data_train[['2010 Population', 'Households', '2014 Population', 'Housing Units', 'Retail Sales']], y = data_train['Democratic'])\n",
    "\n",
    "# X1 = sm.add_constant(data_train[['2010 Population', 'Households', '2014 Population', 'Housing Units', 'Retail Sales']])\n",
    "# result = sm.OLS(data_train['Democratic'],X1).fit()\n",
    "X = data_train[['2010 Population', 'Households', '2014 Population', 'Housing Units', 'Retail Sales']]\n",
    "y = data_train['Democratic']\n",
    "adjusted_r_squared = 1 - (1-model.score(X,y))*(len(y)-1)/(len(y)-X.shape[1]-1)\n",
    "print(adjusted_r_squared)"
   ]
  },
  {
   "cell_type": "markdown",
   "metadata": {},
   "source": [
    "# Task 5(Republican)"
   ]
  },
  {
   "cell_type": "code",
   "execution_count": 23,
   "metadata": {},
   "outputs": [],
   "source": [
    "x = data_train[data_train.columns[0:41]]\n",
    "y = data_train['Republican']"
   ]
  },
  {
   "cell_type": "code",
   "execution_count": 24,
   "metadata": {},
   "outputs": [
    {
     "name": "stdout",
     "output_type": "stream",
     "text": [
      "[1903, 212]\n",
      "[1903, 212]\n",
      "[1903, 212]\n",
      "[1903, 212]\n",
      "[1903, 212]\n",
      "[1904, 211]\n",
      "[1904, 211]\n",
      "[1904, 211]\n",
      "[1904, 211]\n",
      "[1904, 211]\n"
     ]
    }
   ],
   "source": [
    "folds = KFold(n_splits = 10, shuffle = False)\n",
    "for train_index, test_index in folds.split(data_train):\n",
    "    print([train_index.shape[0], test_index.shape[0]])"
   ]
  },
  {
   "cell_type": "code",
   "execution_count": 25,
   "metadata": {},
   "outputs": [],
   "source": [
    "#Standardizing:\n",
    "category = x.select_dtypes(include=['object'])\n",
    "x= x.drop(['County','State'], axis=1)\n",
    "x.columns\n",
    "x1=x\n",
    "cols = x.columns"
   ]
  },
  {
   "cell_type": "code",
   "execution_count": 26,
   "metadata": {},
   "outputs": [],
   "source": [
    "scaler = StandardScaler()\n",
    "scaler.fit(x)\n",
    "x = scaler.transform(x) \n"
   ]
  },
  {
   "cell_type": "code",
   "execution_count": 27,
   "metadata": {},
   "outputs": [
    {
     "name": "stdout",
     "output_type": "stream",
     "text": [
      "{'2014 Population': 0.7883389562803518, '2010 Population': 0.7842242015927963, 'Population Percent Change': 0.339273122401888, 'Percent Under 5 Years': 0.0833469244875473, 'Percent Under 18 Years': 0.0751307723478758, 'Percent 65 and Older': 0.22446607599344548, 'Percent Female': 0.15900003839913254, 'Percent White': 0.11485798835959436, 'Percent Black or African American': 0.06904125552668654, 'Percent American Indian and Alaska Native': 0.06379367639997208, 'Percent Asian': 0.36606007791552664, 'Percent Native Hawaiian and Other Pacific Islander': 0.02706828457665061, 'Percent Two or More Races': 0.0976493696390258, 'Percent Hispanic or Latino': 0.11800668658628141, 'Percent White, not Hispanic or Latino': 0.165735313804323, 'Veterans': 0.8469602412653618, 'Percent Foreign Born': 0.3834640346031978, 'Percent High School or Higher': 0.16085088586424037, \"Percent Bachelor's Degree or Higher\": 0.37119846377347704, 'Housing Units': 0.8178424759510621, 'Percent Housing Units in Multi-Unit Structures': 0.4364686351560214, 'Homeownership Rate': 0.20402524558581087, 'Median Value of Owner-Occupied Units': 0.26626113015991526, 'Building Permits': 0.762948494110835, 'Households': 0.8065114146202874, 'Persons per Household': 0.14278906958849039, 'Percent Living in Same House +1 Years': 0.12770668694972462, 'Percent Language Other than English at Home': 0.22340142438335375, 'Mean Travel Time to Work': 0.12029338183874144, 'Median Household Income': 0.30521477320737206, 'Per Capita Income': 0.3147387010186525, 'Percent Below Poverty Level': 0.1491039735599358, 'Accommodation and Food Services Sales': 0.6162914304789932, 'Manufacturers Shipments': 0.7169739138436756, 'Merchant Wholesaler Sales': 0.6939761416824717, 'Retail Sales': 0.8098193979032302, 'Retail Sales per Capita': 0.21187696448202772, 'Population per Square Mile': 0.2913043335141789, 'Land Area': 0.05949594604387295}\n"
     ]
    },
    {
     "data": {
      "text/plain": [
       "[('Percent Native Hawaiian and Other Pacific Islander', 0.02706828457665061),\n",
       " ('Land Area', 0.05949594604387295),\n",
       " ('Percent American Indian and Alaska Native', 0.06379367639997208),\n",
       " ('Percent Black or African American', 0.06904125552668654),\n",
       " ('Percent Under 18 Years', 0.0751307723478758),\n",
       " ('Percent Under 5 Years', 0.0833469244875473),\n",
       " ('Percent Two or More Races', 0.0976493696390258),\n",
       " ('Percent White', 0.11485798835959436),\n",
       " ('Percent Hispanic or Latino', 0.11800668658628141),\n",
       " ('Mean Travel Time to Work', 0.12029338183874144),\n",
       " ('Percent Living in Same House +1 Years', 0.12770668694972462),\n",
       " ('Persons per Household', 0.14278906958849039),\n",
       " ('Percent Below Poverty Level', 0.1491039735599358),\n",
       " ('Percent Female', 0.15900003839913254),\n",
       " ('Percent High School or Higher', 0.16085088586424037),\n",
       " ('Percent White, not Hispanic or Latino', 0.165735313804323),\n",
       " ('Homeownership Rate', 0.20402524558581087),\n",
       " ('Retail Sales per Capita', 0.21187696448202772),\n",
       " ('Percent Language Other than English at Home', 0.22340142438335375),\n",
       " ('Percent 65 and Older', 0.22446607599344548),\n",
       " ('Median Value of Owner-Occupied Units', 0.26626113015991526),\n",
       " ('Population per Square Mile', 0.2913043335141789),\n",
       " ('Median Household Income', 0.30521477320737206),\n",
       " ('Per Capita Income', 0.3147387010186525),\n",
       " ('Population Percent Change', 0.339273122401888),\n",
       " ('Percent Asian', 0.36606007791552664),\n",
       " (\"Percent Bachelor's Degree or Higher\", 0.37119846377347704),\n",
       " ('Percent Foreign Born', 0.3834640346031978),\n",
       " ('Percent Housing Units in Multi-Unit Structures', 0.4364686351560214),\n",
       " ('Accommodation and Food Services Sales', 0.6162914304789932),\n",
       " ('Merchant Wholesaler Sales', 0.6939761416824717),\n",
       " ('Manufacturers Shipments', 0.7169739138436756),\n",
       " ('Building Permits', 0.762948494110835),\n",
       " ('2010 Population', 0.7842242015927963),\n",
       " ('2014 Population', 0.7883389562803518),\n",
       " ('Households', 0.8065114146202874),\n",
       " ('Retail Sales', 0.8098193979032302),\n",
       " ('Housing Units', 0.8178424759510621),\n",
       " ('Veterans', 0.8469602412653618)]"
      ]
     },
     "execution_count": 27,
     "metadata": {},
     "output_type": "execute_result"
    }
   ],
   "source": [
    "corr_dict = {}\n",
    "for c in cols:\n",
    "    corr_dict[c] = abs(x1[c].corr(data_train['Republican']))\n",
    "print (corr_dict)\n",
    "\n",
    "import operator\n",
    "sortedcorr_dict = sorted(corr_dict.items(), key= operator.itemgetter(1))\n",
    "sortedcorr_dict"
   ]
  },
  {
   "cell_type": "code",
   "execution_count": 28,
   "metadata": {},
   "outputs": [
    {
     "name": "stdout",
     "output_type": "stream",
     "text": [
      "[0.72040149 0.779711   0.83176961 0.76344887 0.67151507 0.60243547\n",
      " 0.52374002 0.75151168 0.53140282 0.79218728]\n",
      "[0.696812330206732, 0.10441848897307272]\n"
     ]
    }
   ],
   "source": [
    "model = linear_model.LinearRegression()\n",
    "scores = cross_val_score(model, X = data_train[['Veterans']], y = data_train['Republican'], cv = folds)\n",
    "print(scores)\n",
    "print([scores.mean(), scores.std()])"
   ]
  },
  {
   "cell_type": "code",
   "execution_count": 29,
   "metadata": {},
   "outputs": [
    {
     "name": "stdout",
     "output_type": "stream",
     "text": [
      "0.7173416502842804\n"
     ]
    }
   ],
   "source": [
    "# train and test simple linear regression model (Republican votes)\n",
    "model = linear_model.LinearRegression().fit(X = data_train[['Veterans']], y = data_train['Republican'])\n",
    "r_squared = model.score(X = data_train[['Veterans']], y = data_train['Republican'])\n",
    "print(r_squared)"
   ]
  },
  {
   "cell_type": "code",
   "execution_count": 30,
   "metadata": {},
   "outputs": [
    {
     "name": "stdout",
     "output_type": "stream",
     "text": [
      "[1. 1. 1. 1. 1. 1. 1. 1. 1. 1.]\n",
      "[1.0, 0.0]\n"
     ]
    }
   ],
   "source": [
    "\n",
    "model = linear_model.LinearRegression()\n",
    "scores = cross_val_score(model, X = data_train[['Housing Units']], y = data_train['Housing Units'], cv = folds)\n",
    "print(scores)\n",
    "print([scores.mean(), scores.std()])"
   ]
  },
  {
   "cell_type": "code",
   "execution_count": 31,
   "metadata": {},
   "outputs": [
    {
     "name": "stdout",
     "output_type": "stream",
     "text": [
      "0.6688663154697629\n"
     ]
    }
   ],
   "source": [
    "# train and test simple linear regression model (Democratic votes)\n",
    "model = linear_model.LinearRegression().fit(X = data_train[['Housing Units']], y = data_train['Republican'])\n",
    "r_squared = model.score(X = data_train[['Housing Units']], y = data_train['Republican'])\n",
    "print(r_squared)"
   ]
  },
  {
   "cell_type": "code",
   "execution_count": 121,
   "metadata": {},
   "outputs": [],
   "source": [
    "model = linear_model.LinearRegression().fit(X = data_train[['Veterans']].values, y = data_train['Republican'].values)\n",
    "\n",
    "y_pred = model.predict(data_test[['Veterans']].values)"
   ]
  },
  {
   "cell_type": "code",
   "execution_count": 33,
   "metadata": {},
   "outputs": [
    {
     "data": {
      "text/plain": [
       "array([  3403.91560027,   3089.97709364,  14762.78156732,   4016.50340054,\n",
       "        14069.67057866,   2760.74937403,   3339.70090573,   4589.33924705,\n",
       "         3075.70716152,   3816.72435087,   2571.16313302,  33716.30926449,\n",
       "         8902.93587057,  13380.63671347,   3909.47890964,   5388.45544573,\n",
       "         4699.42158054,   4678.01668236,   5959.25273051,   3433.47474537,\n",
       "        31238.43748004,   6732.88690756,   7952.96610376,   6122.33766902,\n",
       "         2851.46537108,   9932.4095449 ,   9614.39391481,   7327.12765224,\n",
       "         3545.5956406 ,   4595.45493224,   2739.34447585,   2748.51800364,\n",
       "         4341.65399669,   4687.19021015,   3060.41794854,   4370.19386093,\n",
       "         4995.01303158,  37595.69223924,  10487.91761669,   4123.52789143,\n",
       "         6666.63365129,  13874.98793332,   3246.94634696,   4647.43825639,\n",
       "         4301.90204293,  19627.80913917,   6656.44084263,  49486.62281817,\n",
       "         4253.99584224,  34039.42129891,   5803.30275806,   6538.20426221,\n",
       "         4627.05263908,   3261.21627908,   6548.39707087,   3303.00679457,\n",
       "         3734.16260075,  10035.35691233,   8570.65030836,  11758.96085618,\n",
       "         3571.07766224,   2816.80982164,  12673.25579269,   3113.42055355,\n",
       "         6305.80822484,   3061.4372294 ,   2886.12092051,   3587.38615609,\n",
       "        38389.7120336 ,   3053.28298248,   3583.30903263,   7793.95828872,\n",
       "         4037.90829872,   3762.70246499,   4653.55394158,  16391.59239066,\n",
       "         4799.31110538,  13246.0916392 ,   3793.28089096,  13415.2922629 ,\n",
       "         3090.99637451,   6133.54975854,   4395.67588257,   6041.81448063,\n",
       "         4813.58103749,  13827.08173263,   3928.84524609,   3893.17041579,\n",
       "         3123.61336221,   4360.00105227,   3206.17511233,  32790.80223846,\n",
       "         6607.51536108,   5061.26628785,  11553.06612132,   4661.70818851,\n",
       "         4278.45858302,   3147.05682212,  52640.27781656,   2719.9781394 ,\n",
       "        11983.20264663,   7645.14328233,  15430.41053434,   2690.4189943 ,\n",
       "        64710.60182785,   3000.28037746,   3205.15583146,   5493.4413749 ,\n",
       "         8121.1474466 ,   3901.32466272,  34523.57971011,   2545.68111137,\n",
       "         2969.70195149,   2653.72488314,   5953.13704532,   2780.11571048,\n",
       "         3851.3799003 ,   4719.80719785,   4024.65764746,   6249.74777723,\n",
       "         2649.64775967,  20278.11033147,   4098.04586979,  11707.9968129 ,\n",
       "         8981.42049723,  12023.97388126,   4491.48828394,   2746.47944191,\n",
       "         7125.31004084,   4909.39343887,   8784.69929015,   3298.92967111,\n",
       "         6380.21572803,   2537.52686445,   4856.39083385,  11940.39285027,\n",
       "        26838.20198294,  11205.49134612,   7784.78476093,   3437.55186884,\n",
       "         5080.6326243 ,   3150.11466472,   5209.06201338,   4054.21679257,\n",
       "         7801.09325478,   9548.14065854,  39185.77038969,   5611.67795532,\n",
       "         4871.68004684,  87291.75012595,   5272.25742705,   3268.35124514,\n",
       "         5187.6571152 ,   6153.93537585,   5434.32308469,   3451.82180096,\n",
       "         2925.87287427,   3644.46588457,   3929.86452696,   4598.51277484,\n",
       "         8109.93535708,  19501.41831183,   8267.92389126,   4361.02033314,\n",
       "         2848.40752848,   3033.91664603,   6703.32776245,   2792.34708087,\n",
       "         4855.37155299,   2620.08861457,   5098.97967988,   3935.98021215,\n",
       "         3113.42055355,   3588.40543696,   3486.47735039,   3079.78428499,\n",
       "         3822.84003606,   8026.35432609,   3847.30277684,   7528.94526365,\n",
       "         3095.07349797,   7058.0375037 ,   7917.29127347,  21681.6600835 ,\n",
       "        10614.30844403,   3247.96562782,   3854.4377429 ,  10497.09114448,\n",
       "         3642.42732284,  15833.02647628,   4462.9484197 ,  15658.72944825,\n",
       "         5973.52266263,   9763.2089212 ,   3012.51174785,   3301.9875137 ,\n",
       "        10432.87644994,   7956.02394636,  10539.90094084,   2679.20690478,\n",
       "        30037.72462028,   5296.72016782,   3123.61336221,   3077.74572326,\n",
       "         3781.04952057,   2860.63889887,   6555.53203693,   6641.15162964,\n",
       "         4340.63471582,   4816.63888009,   6037.73735717,   6865.39342009,\n",
       "         3580.25119003,   3518.07505723,   4244.82231445,  12322.6231749 ,\n",
       "         2790.30851914,  35033.22014294,   3006.39606266,   4560.79938281,\n",
       "         5187.6571152 ,   6204.89941914,  43154.85008062,   9473.73315535,\n",
       "         3068.57219546,   4151.04847481,   6940.82020415,   2850.44609021,\n",
       "         3212.29079752,  18500.48450174,   9911.00464672,   3115.45911528,\n",
       "         8730.67740427,   4140.85566615,   2565.04744782,  14381.57052356,\n",
       "         2860.63889887,  28772.79706598,   3411.05056633,   2768.90362096,\n",
       "         3851.3799003 ,   3291.79470505,   3731.10475815,   3070.6107572 ,\n",
       "         8179.24645594,   5975.56122436,   7815.3631869 ,   8312.77224935,\n",
       "        27568.00708276,   2624.16573803,   6069.335064  ,   3331.54665881,\n",
       "        14145.09736272,   3875.84264108,   5601.48514666,   3984.9056937 ,\n",
       "         4547.54873155,  37421.39521121,   8758.19798765,   4969.53100994,\n",
       "         3143.99897952,   5572.94528242,  35387.9298842 ,   2838.21471982,\n",
       "         2848.40752848,   4414.02293815,   6073.41218747,  91667.52288228,\n",
       "         3237.77281917,   7921.36839693,   5289.58520176,   4315.15269418,\n",
       "         4787.07973499,  44849.91416023,   3596.55968388,   2793.36636173,\n",
       "         3041.05161209,  11404.25111493,   9381.99787744,   3267.33196427,\n",
       "         3695.42992785,  11724.30530675,   3622.04170552,   3168.4617203 ,\n",
       "         4341.65399669,   4328.40334543,   5682.00833505,  17779.85292971,\n",
       "        14798.45639762,   4968.51172908,   2771.96146355,  57868.16937659,\n",
       "         3468.13029481,   9039.51950657,   5206.00417078,   3810.60866567,\n",
       "        16693.2995269 ,  20262.82111849,   4991.95518899,  12490.80451774,\n",
       "         3459.97604788,   2697.55396036,   6260.95986675,   7013.18914562,\n",
       "        21755.04830583,   5823.68837538,   4348.78896275,   3081.82284672,\n",
       "         4145.95207048,   5375.20479448,  22929.25986308,   5904.21156376,\n",
       "         6307.84678657,   5452.67014027,   2973.77907496,   2483.50497857,\n",
       "         5914.40437242,  13418.3501055 ,   3113.42055355,   4251.95728051,\n",
       "        39813.64740294,  11204.47206526,   4308.01772812,   3430.41690278,\n",
       "         3862.59198982,   3003.33822006,   3351.93227612,   7885.69356663,\n",
       "         3297.91039024,   5800.24491547,   3168.4617203 ,   3964.52007639,\n",
       "         4023.6383666 ,   7438.2292666 ,  35886.35822751,   4393.63732084,\n",
       "         4619.91767302,   2885.10163964,   3496.67015905,   3540.49923627,\n",
       "        10323.81339732,   3693.39136612,  11389.98118281,  31730.75013816,\n",
       "         2873.88955012,  30921.44113082,  25967.73612365,   5902.17300203,\n",
       "         3687.27568093,   5182.56071087,   8775.52576236,   3660.77437842,\n",
       "        10097.53304514,  39140.9220316 ,   5424.13027603,   8096.68470582,\n",
       "         8394.3147186 ,   2527.33405579,   3211.27151666,  22966.97325511,\n",
       "         9915.08177018,   3711.7384217 ,   4340.63471582,  72622.2599072 ,\n",
       "        37385.72038091,  22826.31249565,  30627.88824151,   4898.18134935,\n",
       "         3962.48151466,   4370.19386093,  20577.77890598,   3328.48881621,\n",
       "         4351.84680535,   3277.52477293,  10478.7440889 ,   2800.50132779,\n",
       "        11904.71801998,   4074.60240988,   3025.76239911,   5771.70505123,\n",
       "         2553.8353583 ,  25692.53028992,   6828.69930893,   3785.12664403,\n",
       "         7785.80404179,   3257.13915561,   4122.50861057,   4763.63627508,\n",
       "         3914.57531397,   3609.81033514,   7510.59820806,  29524.00706398,\n",
       "         6385.31213236,   3746.39397114,   3986.94425543,   4110.27724018,\n",
       "         4449.69776845,   2803.55917039,   6682.94214514,   8081.39549284,\n",
       "         3946.17302081,  13475.42983398,   2776.03858702,   3102.20846403,\n",
       "         7060.07606544,   3074.68788066,   9124.11981842,  14592.56166275,\n",
       "        14152.23232878,   4126.58573403,   4820.71600355,   6256.88274329,\n",
       "         3996.11778323,   4321.26837937,  12856.72634851,   3752.50965633,\n",
       "         2951.35489591,   6028.56382938,   3378.43357863,   5372.14695188,\n",
       "        43238.4311116 ,   4385.48307391,   5499.55706009,   4276.42002129,\n",
       "        60568.24438976,   3459.97604788,  22625.51416511,   4078.67953335,\n",
       "        55816.356994  ,  14886.11455207,   3970.63576158,   4022.61908573,\n",
       "         3050.22513988,   4043.00470305,   4868.62220424,   5187.6571152 ,\n",
       "         2679.20690478,  18514.75443386,   7982.52524887,   3375.37573603,\n",
       "         4596.47421311,   7488.17402902,  10074.08958523,   2591.54875033,\n",
       "         2617.03077197,  12761.93322801,   3818.7629126 ,  20653.20569004,\n",
       "        14792.34071242,  12134.05621475,  14596.63878622,   3024.74311824,\n",
       "         3367.22148911,   2949.31633418,   3638.35019937,   3800.41585702,\n",
       "        12767.02963233,   3640.38876111,   3771.87599278,   4900.21991108,\n",
       "         4660.68890764,  19650.23331822,   3453.86036269,   6253.82490069,\n",
       "         2898.3522909 ,   3101.18918317,   2989.06828794,   2646.58991708,\n",
       "         3180.69309069,  12904.6325492 ,   4026.6962092 ,   3246.94634696,\n",
       "         6977.51431532,   8935.55285827,   7013.18914562,   5535.23189039,\n",
       "        13290.93999729,  38183.81729873,   4809.50391403,   2913.64150388,\n",
       "        18134.56267096,   4593.41637051,   8403.48824639,   8847.89470382,\n",
       "         2742.40231845,   3029.83952257,   2747.49872278,   3363.14436564,\n",
       "         7721.58934726,   3977.77072764,   2811.71341731,   5253.91037146,\n",
       "         7231.31525087,   3694.41064699,   2565.04744782,   4758.53987075,\n",
       "         2881.02451618,   5873.63313779,   5484.26784711,   3625.09954812,\n",
       "        14538.53977687,   7101.86658093,   2618.05005284,   3056.34082508,\n",
       "         6122.33766902,  97579.35190318, 136191.74965657,   5301.81657215,\n",
       "         5310.99009994,   3776.97239711,  38975.79853136,   4073.58312902,\n",
       "        28231.55892631,   3142.97969866,   2959.50914284,   6537.18498135,\n",
       "         7681.8373935 ,   4400.7722869 ,   2818.84838337,   3593.50184129,\n",
       "        13314.3834572 ,  11505.15992063,  14666.96916595,   2787.25067654,\n",
       "         4564.87650627,   3886.03544973,  24513.22232834,   7219.08388048,\n",
       "         2918.73790821,  17471.01082741,   8717.42675302,   4067.46744382,\n",
       "         2994.16469227,  38131.83397458,   5389.4747266 ,  19561.5558829 ,\n",
       "         3490.55447385,   2659.84056833,   4634.18760514,  19759.29637084,\n",
       "         5119.3652972 ,  15768.81178174,   5971.4841009 ,  37295.00438387,\n",
       "         2964.60554717,  28480.26345754,   4951.18395436,   3803.47369961,\n",
       "         9402.38349475,  48048.41751671,   3178.65452896,   4051.15894997,\n",
       "         3589.42471782,   3598.59824561,   2735.26735239,   7794.97756959,\n",
       "        24488.75958756,   3734.16260075,   3379.45285949,   4830.90881221,\n",
       "         9831.5007392 ,   5010.30224457,   2604.79940158,  15031.87171586,\n",
       "         3605.73321167,   3458.95676702,   3192.92446108,   6533.10785788,\n",
       "         4461.92913884,   5854.26680135,   5946.00207926,   7993.73733839,\n",
       "         4918.56696666,   3859.53414723,   8530.8983546 ,   8540.07188239,\n",
       "         6811.37153421,  20685.82267774,  56231.20430632,   2836.17615809,\n",
       "         8051.83634773,   3939.03805475,   3343.7780292 ,  16102.11662481,\n",
       "         3452.84108182,   2589.5101886 ,   8229.19121836,  21126.15201171,\n",
       "         3028.8202417 ,   3540.49923627,   3406.97344287,   5800.24491547,\n",
       "        13214.49393236,  23635.621503  ,   6885.77903741,   4167.35696866,\n",
       "        12280.83265941,   6827.68002806,   5366.03126669,   7306.74203493,\n",
       "         6124.37623075,   3520.11361896,   3867.68839415,  14516.11559783,\n",
       "         3312.18032236,   5500.57634096,   3080.80356585,  38398.88556139,\n",
       "        12738.4897681 ,  21190.36670625,   4008.34915361,   3587.38615609,\n",
       "        24086.14364562,   4370.19386093,   3357.02868045,  23226.88987586,\n",
       "         3927.82596523,   5372.14695188,   3854.4377429 ,   3386.58782555,\n",
       "         5264.10318012,   5815.53412845,   2881.02451618,   2480.44713597,\n",
       "         6038.75663803,   4107.21939758,   2919.75718908,   4410.96509555,\n",
       "         3324.41169275,   3815.70507   ,   3367.22148911,   3350.91299526,\n",
       "         2545.68111137,   8961.03487991,   4565.89578714,   5630.0250109 ,\n",
       "         4240.74519099,   4018.54196227,   5032.72642361,   3811.62794654,\n",
       "         3476.28454173,   3253.06203215,   4349.80824361,  14076.80554472,\n",
       "         3692.37208526,   6320.07815696,   4083.77593767,   9213.8165346 ,\n",
       "         3378.43357863,   6211.01510433,  18380.20935959,   3736.20116248,\n",
       "        13187.99262986,  31100.83456318,   3958.4043912 ,   6292.55757358,\n",
       "         3903.36322445,   3205.15583146,   3991.0213789 ,   3785.12664403,\n",
       "         2999.2610966 ,   5080.6326243 ,   6567.76340732,   4513.91246299,\n",
       "         3452.84108182,  43092.67394781,   5554.59822684,   6892.91400347,\n",
       "         3718.87338776,   6676.82645994,   3630.19595245,   4149.00991308,\n",
       "        67502.41211893,   6875.58622875,   3393.72279161,   3118.51695788,\n",
       "         2683.28402824,   3620.00314379,   5630.0250109 ,  13328.65338932,\n",
       "         4103.14227412,  10033.3183506 ,   3664.85150188,   6549.41635173,\n",
       "         5975.56122436,  46693.79324623,   3473.22669914,   4734.07712997,\n",
       "         6875.58622875,   7980.48668714,   2781.13499134,   3554.76916839,\n",
       "         3574.13550484,   3028.8202417 ,  11485.79358418,   6093.79780478,\n",
       "        10313.62058866,   3887.0547306 ,   7284.31785588,  37257.29099184,\n",
       "         4078.67953335,   2715.90101594,   6789.96663603,   6390.40853669,\n",
       "         5668.75768379,   4547.54873155,   3326.45025448,  71456.20259687,\n",
       "         2660.8598492 ,   4272.34289782,   4964.43460561,   4697.38301881])"
      ]
     },
     "execution_count": 33,
     "metadata": {},
     "output_type": "execute_result"
    }
   ],
   "source": [
    "y_pred"
   ]
  },
  {
   "cell_type": "markdown",
   "metadata": {},
   "source": [
    "## For simple linear Regression to predict number of votes for Republican in each county: the best predictor variable that gives the best performance is Veterans."
   ]
  },
  {
   "cell_type": "markdown",
   "metadata": {},
   "source": [
    "# Task 6"
   ]
  },
  {
   "cell_type": "code",
   "execution_count": 122,
   "metadata": {},
   "outputs": [
    {
     "name": "stdout",
     "output_type": "stream",
     "text": [
      "0.749031079136401\n"
     ]
    }
   ],
   "source": [
    "model = linear_model.LinearRegression().fit(X = data_train[['Veterans', 'Housing Units', 'Retail Sales', 'Households', '2014 Population']], y = data_train['Republican'])\n",
    "r_squared = model.score(X = data_train[['Veterans', 'Housing Units', 'Retail Sales', 'Households', '2014 Population']], y = data_train['Republican'])\n",
    "print(r_squared)\n",
    "best_repb = model"
   ]
  },
  {
   "cell_type": "code",
   "execution_count": 35,
   "metadata": {},
   "outputs": [
    {
     "name": "stdout",
     "output_type": "stream",
     "text": [
      "0.739210129967564\n"
     ]
    }
   ],
   "source": [
    "model = linear_model.LinearRegression().fit(X = data_train[['Veterans', 'Housing Units', 'Retail Sales', 'Households']], y = data_train['Republican'])\n",
    "r_squared = model.score(X = data_train[['Veterans', 'Housing Units', 'Retail Sales', 'Households']], y = data_train['Republican'])\n",
    "print(r_squared)"
   ]
  },
  {
   "cell_type": "code",
   "execution_count": 36,
   "metadata": {},
   "outputs": [
    {
     "name": "stdout",
     "output_type": "stream",
     "text": [
      "0.7207794308346294\n"
     ]
    }
   ],
   "source": [
    "model = linear_model.LinearRegression().fit(X = data_train[['Veterans', 'Housing Units', 'Retail Sales']], y = data_train['Republican'])\n",
    "r_squared = model.score(X = data_train[['Veterans', 'Housing Units', 'Retail Sales']], y = data_train['Republican'])\n",
    "print(r_squared)"
   ]
  },
  {
   "cell_type": "code",
   "execution_count": 37,
   "metadata": {},
   "outputs": [
    {
     "name": "stdout",
     "output_type": "stream",
     "text": [
      "0.7484360840656006\n"
     ]
    }
   ],
   "source": [
    "# train and test multiple linear regression model (Republican votes)\n",
    "#import statsmodel.api as sm\n",
    "model = linear_model.LinearRegression().fit(X = data_train[['Veterans', 'Housing Units', 'Retail Sales', 'Households', '2014 Population']], y = data_train['Republican'])\n",
    "r_squared = model.score(X = data_train[['Veterans', 'Housing Units', 'Retail Sales', 'Households', '2014 Population']], y = data_train['Republican'])\n",
    "\n",
    "# X1 = sm.add_constant(data_train[['2010 Population', 'Households', '2014 Population', 'Housing Units', 'Retail Sales']])\n",
    "# result = sm.OLS(data_train['Democratic'],X1).fit()\n",
    "X = data_train[['Veterans', 'Housing Units', 'Retail Sales', 'Households', '2014 Population']]\n",
    "y = data_train['Republican']\n",
    "adjusted_r_squared = 1 - (1-model.score(X,y))*(len(y)-1)/(len(y)-X.shape[1]-1)\n",
    "print(adjusted_r_squared)"
   ]
  },
  {
   "cell_type": "markdown",
   "metadata": {},
   "source": [
    "## For multiple linear Regression, the best performance is given by the following parameters: 'Veterans', 'Housing Units', 'Retail Sales', 'Households', '2014 Population'"
   ]
  },
  {
   "cell_type": "markdown",
   "metadata": {},
   "source": [
    "# Task 7"
   ]
  },
  {
   "cell_type": "code",
   "execution_count": 38,
   "metadata": {},
   "outputs": [],
   "source": [
    "# read data\n",
    "data_train = pd.read_csv('merged_train.csv')\n",
    "data_test = pd.read_csv('demographics_test.csv')"
   ]
  },
  {
   "cell_type": "code",
   "execution_count": 39,
   "metadata": {},
   "outputs": [],
   "source": [
    "x = data_train[data_train.columns[0:41]]\n",
    "y = data_train['Party']"
   ]
  },
  {
   "cell_type": "code",
   "execution_count": 40,
   "metadata": {},
   "outputs": [],
   "source": [
    "#Standardizing:\n",
    "category = x.select_dtypes(include=['object'])\n",
    "x= x.drop(['County','State'], axis=1)"
   ]
  },
  {
   "cell_type": "code",
   "execution_count": 41,
   "metadata": {},
   "outputs": [
    {
     "data": {
      "text/plain": [
       "[('Percent Female', 0.00344106468543176),\n",
       " ('Mean Travel Time to Work', 0.004159722786421002),\n",
       " ('Population Percent Change', 0.004303971031175182),\n",
       " ('Median Household Income', 0.014073430812183551),\n",
       " ('Percent Under 18 Years', 0.048832748270576626),\n",
       " ('Per Capita Income', 0.057656264481787595),\n",
       " ('Percent Under 5 Years', 0.06478856817840044),\n",
       " ('Persons per Household', 0.06524175480418887),\n",
       " ('Building Permits', 0.06875734221726619),\n",
       " ('Percent High School or Higher', 0.07604191988197857),\n",
       " ('Percent Native Hawaiian and Other Pacific Islander', 0.076545950539493),\n",
       " ('Manufacturers Shipments', 0.07803366595400792),\n",
       " ('Land Area', 0.08237503917178769),\n",
       " ('Retail Sales per Capita', 0.08691530562005276),\n",
       " ('Merchant Wholesaler Sales', 0.08867031186035655),\n",
       " ('Percent Living in Same House +1 Years', 0.10170214843269912),\n",
       " ('Accommodation and Food Services Sales', 0.12423807768688179),\n",
       " ('Percent American Indian and Alaska Native', 0.1259357160784947),\n",
       " ('Veterans', 0.12866565630337093),\n",
       " ('Retail Sales', 0.1333850006577654),\n",
       " ('2014 Population', 0.1365604367317339),\n",
       " ('2010 Population', 0.13846729091579354),\n",
       " ('Housing Units', 0.14113870877765222),\n",
       " ('Households', 0.1427311609634516),\n",
       " ('Percent Hispanic or Latino', 0.15301476956860177),\n",
       " ('Percent Two or More Races', 0.16918568771643472),\n",
       " ('Population per Square Mile', 0.1765394287576012),\n",
       " ('Percent 65 and Older', 0.18359194305374818),\n",
       " ('Percent Foreign Born', 0.1892813765774529),\n",
       " (\"Percent Bachelor's Degree or Higher\", 0.1929471228701857),\n",
       " ('Percent Below Poverty Level', 0.19431803030968925),\n",
       " ('Percent Language Other than English at Home', 0.20282099767216824),\n",
       " ('Percent Black or African American', 0.21334973856659678),\n",
       " ('Percent Asian', 0.2145303687260211),\n",
       " ('Median Value of Owner-Occupied Units', 0.21665195780040272),\n",
       " ('Homeownership Rate', 0.2804235310347848),\n",
       " ('Percent Housing Units in Multi-Unit Structures', 0.28072145341271937),\n",
       " ('Percent White', 0.3006840053616846),\n",
       " ('Percent White, not Hispanic or Latino', 0.33418552175118005)]"
      ]
     },
     "execution_count": 41,
     "metadata": {},
     "output_type": "execute_result"
    }
   ],
   "source": [
    "cols = x.columns\n",
    "\n",
    "corr_dict = {}\n",
    "for c in cols:\n",
    "    corr_dict[c] = abs(x[c].corr(y))\n",
    "\n",
    "import operator\n",
    "sortedcorr_dict = sorted(corr_dict.items(), key= operator.itemgetter(1))\n",
    "sortedcorr_dict"
   ]
  },
  {
   "cell_type": "code",
   "execution_count": 47,
   "metadata": {},
   "outputs": [],
   "source": [
    "# partition dataset into training and test sets\n",
    "x_train, x_test, y_train, y_test = train_test_split(data_train[['Percent White, not Hispanic or Latino', 'Percent White', 'Percent Housing Units in Multi-Unit Structures', 'Homeownership Rate']],\n",
    "                                                    data_train['Party'], test_size=0.25, random_state = 1)"
   ]
  },
  {
   "cell_type": "code",
   "execution_count": 48,
   "metadata": {},
   "outputs": [],
   "source": [
    "scaler = StandardScaler()\n",
    "scaler.fit(x_train)\n",
    "x_train = scaler.transform(x_train) \n",
    "x_test = scaler.transform(x_test)"
   ]
  },
  {
   "cell_type": "code",
   "execution_count": 49,
   "metadata": {},
   "outputs": [
    {
     "data": {
      "text/plain": [
       "SVC(C=1.0, cache_size=200, class_weight=None, coef0=0.0,\n",
       "  decision_function_shape='ovr', degree=3, gamma='auto', kernel='rbf',\n",
       "  max_iter=-1, probability=False, random_state=0, shrinking=True,\n",
       "  tol=0.001, verbose=False)"
      ]
     },
     "execution_count": 49,
     "metadata": {},
     "output_type": "execute_result"
    }
   ],
   "source": [
    "from sklearn.svm import SVC\n",
    "classifier = SVC(kernel='rbf', random_state=0)\n",
    "classifier.fit(x_train, y_train)"
   ]
  },
  {
   "cell_type": "code",
   "execution_count": 50,
   "metadata": {},
   "outputs": [],
   "source": [
    "\n",
    "y_pred = classifier.predict(x_test)"
   ]
  },
  {
   "cell_type": "code",
   "execution_count": 51,
   "metadata": {},
   "outputs": [],
   "source": [
    "Svm = SVC(random_state=0)\n",
    "from sklearn.model_selection import GridSearchCV\n",
    "parameters= [{'C':[1,10,100], 'kernel': ['rbf', 'linear']}]\n",
    "gridsearch = GridSearchCV(estimator=Svm, param_grid = parameters, scoring='accuracy', cv=10)\n",
    "gridSearch = gridsearch.fit(x_train, y_train)\n"
   ]
  },
  {
   "cell_type": "code",
   "execution_count": 52,
   "metadata": {},
   "outputs": [
    {
     "name": "stdout",
     "output_type": "stream",
     "text": [
      "0.7831021437578815 {'C': 100, 'kernel': 'rbf'}\n"
     ]
    }
   ],
   "source": [
    "print(gridSearch.best_score_,gridSearch.best_params_)"
   ]
  },
  {
   "cell_type": "code",
   "execution_count": 53,
   "metadata": {},
   "outputs": [],
   "source": [
    "finalSVM= SVC(kernel='rbf', C=100, random_state = 0)\n",
    "finalSVM.fit(x_train, y_train)\n",
    "y_pred = finalSVM.predict(x_test)"
   ]
  },
  {
   "cell_type": "code",
   "execution_count": 54,
   "metadata": {},
   "outputs": [],
   "source": [
    "bestModel = finalSVM\n",
    "y_pred = finalSVM.predict(x_test)"
   ]
  },
  {
   "cell_type": "code",
   "execution_count": 55,
   "metadata": {},
   "outputs": [
    {
     "name": "stdout",
     "output_type": "stream",
     "text": [
      "[[378  24]\n",
      " [ 83  44]]\n"
     ]
    }
   ],
   "source": [
    "from sklearn import metrics\n",
    "confusionmatrix = metrics.confusion_matrix(y_test, y_pred)\n",
    "print(confusionmatrix)"
   ]
  },
  {
   "cell_type": "code",
   "execution_count": 56,
   "metadata": {},
   "outputs": [
    {
     "data": {
      "image/png": "[encoded data removed]",
      "text/plain": [
       "<matplotlib.figure.Figure at 0x219c96f88d0>"
      ]
     },
     "metadata": {},
     "output_type": "display_data"
    }
   ],
   "source": [
    "# plot confusion matrix\n",
    "sns.heatmap(confusionmatrix, annot = True, fmt = \".3f\", square = True, cmap = plt.cm.Blues)\n",
    "plt.ylabel('Actual')\n",
    "plt.xlabel('Predicted')\n",
    "plt.title('Confusion matrix')\n",
    "plt.tight_layout()"
   ]
  },
  {
   "cell_type": "code",
   "execution_count": 57,
   "metadata": {},
   "outputs": [
    {
     "name": "stdout",
     "output_type": "stream",
     "text": [
      "0.7977315689981096\n",
      "0.2022684310018904\n",
      "[0.81995662 0.64705882]\n",
      "[0.94029851 0.34645669]\n",
      "[0.8760139  0.45128205]\n"
     ]
    }
   ],
   "source": [
    "# compute evaluation metrics\n",
    "print(metrics.accuracy_score(y_test, y_pred)) # accuracy\n",
    "print(1 - metrics.accuracy_score(y_test, y_pred)) # error\n",
    "print(metrics.precision_score(y_test, y_pred, average = None)) # precision\n",
    "print(metrics.recall_score(y_test, y_pred, average = None)) # recall\n",
    "print(metrics.f1_score(y_test, y_pred, average = None)) # F1 score"
   ]
  },
  {
   "cell_type": "markdown",
   "metadata": {},
   "source": [
    "## Kernel SVM gives an accuracy of 79.77% for Kernel as RBF and C=100"
   ]
  },
  {
   "cell_type": "code",
   "execution_count": 58,
   "metadata": {},
   "outputs": [
    {
     "data": {
      "text/plain": [
       "KNeighborsClassifier(algorithm='auto', leaf_size=30, metric='minkowski',\n",
       "           metric_params=None, n_jobs=1, n_neighbors=3, p=2,\n",
       "           weights='uniform')"
      ]
     },
     "execution_count": 58,
     "metadata": {},
     "output_type": "execute_result"
    }
   ],
   "source": [
    "from sklearn.neighbors import KNeighborsClassifier\n",
    "classifierKNN = KNeighborsClassifier(n_neighbors = 3)  \n",
    "classifierKNN.fit(x_train, y_train)"
   ]
  },
  {
   "cell_type": "code",
   "execution_count": 59,
   "metadata": {},
   "outputs": [],
   "source": [
    "y_pred = classifierKNN.predict(x_test) "
   ]
  },
  {
   "cell_type": "code",
   "execution_count": 60,
   "metadata": {},
   "outputs": [
    {
     "name": "stdout",
     "output_type": "stream",
     "text": [
      "[[348  54]\n",
      " [ 75  52]]\n"
     ]
    }
   ],
   "source": [
    "from sklearn import metrics\n",
    "confusionmatrix = metrics.confusion_matrix(y_test, y_pred)\n",
    "print(confusionmatrix)"
   ]
  },
  {
   "cell_type": "code",
   "execution_count": 61,
   "metadata": {},
   "outputs": [
    {
     "data": {
      "image/png": "[encoded data removed]",
      "text/plain": [
       "<matplotlib.figure.Figure at 0x219ca90ab38>"
      ]
     },
     "metadata": {},
     "output_type": "display_data"
    }
   ],
   "source": [
    "# plot confusion matrix\n",
    "sns.heatmap(confusionmatrix, annot = True, fmt = \".3f\", square = True, cmap = plt.cm.Blues)\n",
    "plt.ylabel('Actual')\n",
    "plt.xlabel('Predicted')\n",
    "plt.title('Confusion matrix')\n",
    "plt.tight_layout()"
   ]
  },
  {
   "cell_type": "code",
   "execution_count": 62,
   "metadata": {},
   "outputs": [
    {
     "name": "stdout",
     "output_type": "stream",
     "text": [
      "0.7561436672967864\n",
      "0.2438563327032136\n",
      "[0.82269504 0.49056604]\n",
      "[0.86567164 0.40944882]\n",
      "[0.84363636 0.44635193]\n"
     ]
    }
   ],
   "source": [
    "# compute evaluation metrics\n",
    "print(metrics.accuracy_score(y_test, y_pred)) # accuracy\n",
    "print(1 - metrics.accuracy_score(y_test, y_pred)) # error\n",
    "print(metrics.precision_score(y_test, y_pred, average = None)) # precision\n",
    "print(metrics.recall_score(y_test, y_pred, average = None)) # recall\n",
    "print(metrics.f1_score(y_test, y_pred, average = None)) # F1 score"
   ]
  },
  {
   "cell_type": "markdown",
   "metadata": {},
   "source": [
    "## KNN with 3 neighbors gives an accuracy of 75.61%"
   ]
  },
  {
   "cell_type": "markdown",
   "metadata": {},
   "source": [
    "# Task 8"
   ]
  },
  {
   "cell_type": "code",
   "execution_count": 63,
   "metadata": {},
   "outputs": [],
   "source": [
    "x = data_train[data_train.columns[2:41]]\n",
    "x = x[['Percent White, not Hispanic or Latino','Percent White','Percent Housing Units in Multi-Unit Structures', 'Homeownership Rate']]\n",
    "y = data_train['Party']"
   ]
  },
  {
   "cell_type": "code",
   "execution_count": 64,
   "metadata": {},
   "outputs": [
    {
     "name": "stdout",
     "output_type": "stream",
     "text": [
      "[0 0 0 ... 0 0 1]\n"
     ]
    }
   ],
   "source": [
    "factor = pd.factorize(data_train['Party'])\n",
    "print(factor[0])\n",
    "data_train.Party = factor[0]"
   ]
  },
  {
   "cell_type": "code",
   "execution_count": 65,
   "metadata": {},
   "outputs": [],
   "source": [
    "from sklearn.cluster import KMeans, DBSCAN\n",
    "clustering = KMeans(n_clusters = 2, init = 'random', n_init = 1, random_state = 2).fit(x)"
   ]
  },
  {
   "cell_type": "code",
   "execution_count": 66,
   "metadata": {},
   "outputs": [
    {
     "data": {
      "text/plain": [
       "array([[50.89265625, 67.49109375, 14.7534375 , 67.245625  ],\n",
       "       [87.60847458, 92.50277966, 11.28745763, 74.0660339 ]])"
      ]
     },
     "execution_count": 66,
     "metadata": {},
     "output_type": "execute_result"
    }
   ],
   "source": [
    "clustering.cluster_centers_"
   ]
  },
  {
   "cell_type": "code",
   "execution_count": 67,
   "metadata": {},
   "outputs": [
    {
     "name": "stdout",
     "output_type": "stream",
     "text": [
      "[1 1 1 ... 1 1 0]\n"
     ]
    }
   ],
   "source": [
    "clusters = clustering.labels_\n",
    "print(clusters)\n"
   ]
  },
  {
   "cell_type": "code",
   "execution_count": 68,
   "metadata": {},
   "outputs": [
    {
     "data": {
      "image/png": "[encoded data removed]",
      "text/plain": [
       "<matplotlib.figure.Figure at 0x219c96ef0f0>"
      ]
     },
     "metadata": {},
     "output_type": "display_data"
    }
   ],
   "source": [
    "x['clusters'] = clusters\n",
    "cont_matrix = metrics.cluster.contingency_matrix(y, x['clusters'])\n",
    "sns.heatmap(cont_matrix, annot = True, fmt = \".3f\", square = True, cmap = plt.cm.Blues)\n",
    "plt.ylabel('Actual')\n",
    "plt.xlabel('Predicted')\n",
    "plt.title('Contingency matrix')\n",
    "plt.tight_layout()"
   ]
  },
  {
   "cell_type": "code",
   "execution_count": 69,
   "metadata": {},
   "outputs": [
    {
     "name": "stdout",
     "output_type": "stream",
     "text": [
      "0.13133169192638589\n"
     ]
    }
   ],
   "source": [
    "# compute adjusted Rand index\n",
    "print(metrics.adjusted_rand_score(y,x['clusters']))"
   ]
  },
  {
   "cell_type": "code",
   "execution_count": 70,
   "metadata": {},
   "outputs": [
    {
     "name": "stdout",
     "output_type": "stream",
     "text": [
      "0.057293153599497715\n"
     ]
    }
   ],
   "source": [
    "# compute normalized mutual information\n",
    "print(metrics.normalized_mutual_info_score(y,x['clusters']))"
   ]
  },
  {
   "cell_type": "code",
   "execution_count": 71,
   "metadata": {},
   "outputs": [
    {
     "name": "stdout",
     "output_type": "stream",
     "text": [
      "0.5271864862954005\n"
     ]
    }
   ],
   "source": [
    "# compute silhouette coefficient\n",
    "print(metrics.silhouette_score(x,x['clusters'], metric = \"euclidean\"))"
   ]
  },
  {
   "cell_type": "code",
   "execution_count": 72,
   "metadata": {},
   "outputs": [],
   "source": [
    "x = data_train[data_train.columns[2:41]]\n",
    "x = x[['Percent White, not Hispanic or Latino','Percent White','Percent Housing Units in Multi-Unit Structures', 'Homeownership Rate','Median Value of Owner-Occupied Units']]\n",
    "y = data_train['Party']"
   ]
  },
  {
   "cell_type": "code",
   "execution_count": 73,
   "metadata": {},
   "outputs": [
    {
     "name": "stdout",
     "output_type": "stream",
     "text": [
      "[0 0 0 ... 0 0 1]\n"
     ]
    }
   ],
   "source": [
    "factor = pd.factorize(data_train['Party'])\n",
    "print(factor[0])\n",
    "data_train.Party = factor[0]"
   ]
  },
  {
   "cell_type": "code",
   "execution_count": 74,
   "metadata": {},
   "outputs": [],
   "source": [
    "clustering = KMeans(n_clusters = 2, init = 'random', n_init = 1, random_state = 2).fit(x)"
   ]
  },
  {
   "cell_type": "code",
   "execution_count": 75,
   "metadata": {},
   "outputs": [
    {
     "data": {
      "text/plain": [
       "array([[7.33032258e+01, 8.40193548e+01, 2.13556452e+01, 6.92495968e+01,\n",
       "        2.98862500e+05],\n",
       "       [7.69226567e+01, 8.50557579e+01, 1.11381896e+01, 7.23678093e+01,\n",
       "        1.09685324e+05]])"
      ]
     },
     "execution_count": 75,
     "metadata": {},
     "output_type": "execute_result"
    }
   ],
   "source": [
    "clustering.cluster_centers_"
   ]
  },
  {
   "cell_type": "code",
   "execution_count": 76,
   "metadata": {},
   "outputs": [
    {
     "name": "stdout",
     "output_type": "stream",
     "text": [
      "[1 1 1 ... 1 1 0]\n"
     ]
    }
   ],
   "source": [
    "clusters = clustering.labels_\n",
    "print(clusters)"
   ]
  },
  {
   "cell_type": "code",
   "execution_count": 77,
   "metadata": {},
   "outputs": [
    {
     "data": {
      "image/png": "[encoded data removed]",
      "text/plain": [
       "<matplotlib.figure.Figure at 0x219c71d9400>"
      ]
     },
     "metadata": {},
     "output_type": "display_data"
    }
   ],
   "source": [
    "x['clusters'] = clusters\n",
    "cont_matrix = metrics.cluster.contingency_matrix(y, x['clusters'])\n",
    "sns.heatmap(cont_matrix, annot = True, fmt = \".3f\", square = True, cmap = plt.cm.Blues)\n",
    "plt.ylabel('Actual')\n",
    "plt.xlabel('Predicted')\n",
    "plt.title('Contingency matrix')\n",
    "plt.tight_layout()"
   ]
  },
  {
   "cell_type": "code",
   "execution_count": 78,
   "metadata": {},
   "outputs": [
    {
     "name": "stdout",
     "output_type": "stream",
     "text": [
      "0.1396696220577096\n"
     ]
    }
   ],
   "source": [
    "print(metrics.adjusted_rand_score(y,x['clusters']))"
   ]
  },
  {
   "cell_type": "code",
   "execution_count": 79,
   "metadata": {},
   "outputs": [
    {
     "name": "stdout",
     "output_type": "stream",
     "text": [
      "0.061464457584032\n"
     ]
    }
   ],
   "source": [
    "# compute normalized mutual information\n",
    "print(metrics.normalized_mutual_info_score(y,x['clusters']))"
   ]
  },
  {
   "cell_type": "code",
   "execution_count": 80,
   "metadata": {},
   "outputs": [
    {
     "name": "stdout",
     "output_type": "stream",
     "text": [
      "0.7241722055848013\n"
     ]
    },
    {
     "name": "stderr",
     "output_type": "stream",
     "text": [
      "C:\\Users\\uthir\\Anaconda3\\lib\\site-packages\\sklearn\\utils\\validation.py:578: DataConversionWarning: A column-vector y was passed when a 1d array was expected. Please change the shape of y to (n_samples, ), for example using ravel().\n",
      "  y = column_or_1d(y, warn=True)\n"
     ]
    }
   ],
   "source": [
    "# compute silhouette coefficient\n",
    "print(metrics.silhouette_score(x,x[['clusters']], metric = \"euclidean\"))"
   ]
  },
  {
   "cell_type": "code",
   "execution_count": 81,
   "metadata": {},
   "outputs": [],
   "source": [
    "\n",
    "clustering = KMeans(n_clusters = 3, init = 'random', n_init = 10).fit(x)"
   ]
  },
  {
   "cell_type": "code",
   "execution_count": 82,
   "metadata": {},
   "outputs": [
    {
     "data": {
      "text/plain": [
       "array([[ 7.80111304e+01,  8.61029565e+01,  1.60626087e+01,\n",
       "         7.12819130e+01,  1.86046087e+05,  7.14782609e-01],\n",
       "       [ 6.47880952e+01,  7.89821429e+01,  2.83285714e+01,\n",
       "         6.61059524e+01,  4.11861905e+05, -4.44089210e-16],\n",
       "       [ 7.65763736e+01,  8.48160714e+01,  9.94203297e+00,\n",
       "         7.26267857e+01,  9.43183379e+04,  1.00000000e+00]])"
      ]
     },
     "execution_count": 82,
     "metadata": {},
     "output_type": "execute_result"
    }
   ],
   "source": [
    "clustering.cluster_centers_"
   ]
  },
  {
   "cell_type": "code",
   "execution_count": 83,
   "metadata": {},
   "outputs": [
    {
     "name": "stdout",
     "output_type": "stream",
     "text": [
      "[2 0 0 ... 0 2 0]\n"
     ]
    }
   ],
   "source": [
    "clusters = clustering.labels_\n",
    "print(clusters)"
   ]
  },
  {
   "cell_type": "code",
   "execution_count": 84,
   "metadata": {},
   "outputs": [
    {
     "data": {
      "image/png": "[encoded data removed]",
      "text/plain": [
       "<matplotlib.figure.Figure at 0x219ca74eeb8>"
      ]
     },
     "metadata": {},
     "output_type": "display_data"
    }
   ],
   "source": [
    "x['clusters'] = clusters\n",
    "cont_matrix = metrics.cluster.contingency_matrix(y, x['clusters'])\n",
    "sns.heatmap(cont_matrix, annot = True, fmt = \".3f\", square = True, cmap = plt.cm.Blues)\n",
    "plt.ylabel('Actual')\n",
    "plt.xlabel('Predicted')\n",
    "plt.title('Contingency matrix')\n",
    "plt.tight_layout()"
   ]
  },
  {
   "cell_type": "code",
   "execution_count": 85,
   "metadata": {},
   "outputs": [
    {
     "name": "stdout",
     "output_type": "stream",
     "text": [
      "0.06546637152521675\n"
     ]
    }
   ],
   "source": [
    "print(metrics.adjusted_rand_score(y,x['clusters']))"
   ]
  },
  {
   "cell_type": "code",
   "execution_count": 86,
   "metadata": {},
   "outputs": [
    {
     "name": "stdout",
     "output_type": "stream",
     "text": [
      "0.03218296798697002\n"
     ]
    }
   ],
   "source": [
    "# compute normalized mutual information\n",
    "print(metrics.normalized_mutual_info_score(y,x['clusters']))"
   ]
  },
  {
   "cell_type": "code",
   "execution_count": 87,
   "metadata": {},
   "outputs": [
    {
     "name": "stdout",
     "output_type": "stream",
     "text": [
      "0.61906193611219\n"
     ]
    },
    {
     "name": "stderr",
     "output_type": "stream",
     "text": [
      "C:\\Users\\uthir\\Anaconda3\\lib\\site-packages\\sklearn\\utils\\validation.py:578: DataConversionWarning: A column-vector y was passed when a 1d array was expected. Please change the shape of y to (n_samples, ), for example using ravel().\n",
      "  y = column_or_1d(y, warn=True)\n"
     ]
    }
   ],
   "source": [
    "# compute silhouette coefficient\n",
    "print(metrics.silhouette_score(x,x[['clusters']], metric = \"euclidean\"))"
   ]
  },
  {
   "cell_type": "code",
   "execution_count": 88,
   "metadata": {},
   "outputs": [],
   "source": [
    "clustering = KMeans(n_clusters = 3, init = 'k-means++', n_init = 10).fit(x)"
   ]
  },
  {
   "cell_type": "code",
   "execution_count": 89,
   "metadata": {},
   "outputs": [
    {
     "data": {
      "text/plain": [
       "array([[ 7.65763736e+01,  8.48160714e+01,  9.94203297e+00,\n",
       "         7.26267857e+01,  9.43183379e+04,  2.00000000e+00],\n",
       "       [ 6.47880952e+01,  7.89821429e+01,  2.83285714e+01,\n",
       "         6.61059524e+01,  4.11861905e+05,  1.00000000e+00],\n",
       "       [ 7.80111304e+01,  8.61029565e+01,  1.60626087e+01,\n",
       "         7.12819130e+01,  1.86046087e+05, -2.22044605e-15]])"
      ]
     },
     "execution_count": 89,
     "metadata": {},
     "output_type": "execute_result"
    }
   ],
   "source": [
    "clustering.cluster_centers_"
   ]
  },
  {
   "cell_type": "code",
   "execution_count": 90,
   "metadata": {},
   "outputs": [
    {
     "name": "stdout",
     "output_type": "stream",
     "text": [
      "[0 2 2 ... 2 0 2]\n"
     ]
    }
   ],
   "source": [
    "clusters = clustering.labels_\n",
    "print(clusters)"
   ]
  },
  {
   "cell_type": "code",
   "execution_count": 91,
   "metadata": {},
   "outputs": [
    {
     "data": {
      "image/png": "[encoded data removed]",
      "text/plain": [
       "<matplotlib.figure.Figure at 0x219cab89fd0>"
      ]
     },
     "metadata": {},
     "output_type": "display_data"
    }
   ],
   "source": [
    "x['clusters'] = clusters\n",
    "cont_matrix = metrics.cluster.contingency_matrix(y, x['clusters'])\n",
    "sns.heatmap(cont_matrix, annot = True, fmt = \".3f\", square = True, cmap = plt.cm.Blues)\n",
    "plt.ylabel('Actual')\n",
    "plt.xlabel('Predicted')\n",
    "plt.title('Contingency matrix')\n",
    "plt.tight_layout()"
   ]
  },
  {
   "cell_type": "code",
   "execution_count": 92,
   "metadata": {},
   "outputs": [
    {
     "name": "stdout",
     "output_type": "stream",
     "text": [
      "0.06546637152521675\n"
     ]
    }
   ],
   "source": [
    "print(metrics.adjusted_rand_score(y,x['clusters']))"
   ]
  },
  {
   "cell_type": "code",
   "execution_count": 93,
   "metadata": {},
   "outputs": [
    {
     "name": "stdout",
     "output_type": "stream",
     "text": [
      "0.03218296798697002\n"
     ]
    }
   ],
   "source": [
    "# compute normalized mutual information\n",
    "print(metrics.normalized_mutual_info_score(y,x['clusters']))"
   ]
  },
  {
   "cell_type": "code",
   "execution_count": 94,
   "metadata": {},
   "outputs": [
    {
     "name": "stdout",
     "output_type": "stream",
     "text": [
      "0.61906193611219\n"
     ]
    },
    {
     "name": "stderr",
     "output_type": "stream",
     "text": [
      "C:\\Users\\uthir\\Anaconda3\\lib\\site-packages\\sklearn\\utils\\validation.py:578: DataConversionWarning: A column-vector y was passed when a 1d array was expected. Please change the shape of y to (n_samples, ), for example using ravel().\n",
      "  y = column_or_1d(y, warn=True)\n"
     ]
    }
   ],
   "source": [
    "# compute silhouette coefficient\n",
    "print(metrics.silhouette_score(x,x[['clusters']], metric = \"euclidean\"))"
   ]
  },
  {
   "cell_type": "code",
   "execution_count": 95,
   "metadata": {},
   "outputs": [],
   "source": [
    "## K-means with n_clusters = 2, init = 'random', n_init = 1 with the following variables: 'Percent White, not Hispanic or Latino','Percent White','Percent Housing Units in Multi-Unit Structures', 'Homeownership Rate','Median Value of Owner-Occupied Units' provide better adjusted_rand_score and silhouette coefficient"
   ]
  },
  {
   "cell_type": "code",
   "execution_count": 96,
   "metadata": {},
   "outputs": [],
   "source": [
    "x = data_train[data_train.columns[2:41]]\n",
    "x = x[['Percent White, not Hispanic or Latino','Percent White','Percent Housing Units in Multi-Unit Structures', 'Homeownership Rate','Median Value of Owner-Occupied Units']]\n",
    "y = data_train['Party']"
   ]
  },
  {
   "cell_type": "code",
   "execution_count": 97,
   "metadata": {},
   "outputs": [],
   "source": [
    "from scipy.cluster.hierarchy import linkage, dendrogram, fcluster\n",
    "# CLUSTERING: Agglomerative clustering with single (min) linkage\n",
    "clustering = linkage(x, method = \"single\", metric = \"euclidean\")"
   ]
  },
  {
   "cell_type": "code",
   "execution_count": 98,
   "metadata": {},
   "outputs": [
    {
     "data": {
      "image/png": "[encoded data removed]",
      "text/plain": [
       "<matplotlib.figure.Figure at 0x219cabc3d30>"
      ]
     },
     "metadata": {},
     "output_type": "display_data"
    }
   ],
   "source": [
    "# plot dendrogram\n",
    "plt.figure()\n",
    "dendrogram(clustering)\n",
    "plt.show()"
   ]
  },
  {
   "cell_type": "code",
   "execution_count": 99,
   "metadata": {},
   "outputs": [
    {
     "name": "stdout",
     "output_type": "stream",
     "text": [
      "[1 1 1 ... 1 1 1]\n"
     ]
    }
   ],
   "source": [
    "# form clusters\n",
    "clusters = fcluster(clustering, 2, criterion = 'maxclust')\n",
    "print(clusters)"
   ]
  },
  {
   "cell_type": "code",
   "execution_count": 100,
   "metadata": {},
   "outputs": [],
   "source": [
    "x['clusters'] = clusters - 1"
   ]
  },
  {
   "cell_type": "code",
   "execution_count": 101,
   "metadata": {},
   "outputs": [
    {
     "data": {
      "image/png": "[encoded data removed]",
      "text/plain": [
       "<matplotlib.figure.Figure at 0x219cd1a7d68>"
      ]
     },
     "metadata": {},
     "output_type": "display_data"
    }
   ],
   "source": [
    "# plot contingency matrix\n",
    "cont_matrix = metrics.cluster.contingency_matrix(y, x['clusters'])\n",
    "sns.heatmap(cont_matrix, annot = True, fmt = \".3f\", square = True, cmap = plt.cm.Blues)\n",
    "plt.ylabel('Actual')\n",
    "plt.xlabel('Predicted')\n",
    "plt.title('Contingency matrix')\n",
    "plt.tight_layout()"
   ]
  },
  {
   "cell_type": "code",
   "execution_count": 102,
   "metadata": {},
   "outputs": [
    {
     "name": "stdout",
     "output_type": "stream",
     "text": [
      "0.0016166956778420718\n"
     ]
    }
   ],
   "source": [
    "print(metrics.adjusted_rand_score(y,x['clusters']))"
   ]
  },
  {
   "cell_type": "code",
   "execution_count": 103,
   "metadata": {},
   "outputs": [
    {
     "name": "stdout",
     "output_type": "stream",
     "text": [
      "0.012699828965930337\n"
     ]
    }
   ],
   "source": [
    "# compute normalized mutual information\n",
    "print(metrics.normalized_mutual_info_score(y,x['clusters']))"
   ]
  },
  {
   "cell_type": "code",
   "execution_count": 104,
   "metadata": {},
   "outputs": [
    {
     "name": "stdout",
     "output_type": "stream",
     "text": [
      "0.9005617988434077\n"
     ]
    },
    {
     "name": "stderr",
     "output_type": "stream",
     "text": [
      "C:\\Users\\uthir\\Anaconda3\\lib\\site-packages\\sklearn\\utils\\validation.py:578: DataConversionWarning: A column-vector y was passed when a 1d array was expected. Please change the shape of y to (n_samples, ), for example using ravel().\n",
      "  y = column_or_1d(y, warn=True)\n"
     ]
    }
   ],
   "source": [
    "# compute silhouette coefficient\n",
    "print(metrics.silhouette_score(x,x[['clusters']], metric = \"euclidean\"))"
   ]
  },
  {
   "cell_type": "code",
   "execution_count": 105,
   "metadata": {},
   "outputs": [],
   "source": [
    "# CLUSTERING: Agglomerative clustering with complete (max) linkage\n",
    "clustering = linkage(x, method = \"complete\", metric = \"euclidean\")"
   ]
  },
  {
   "cell_type": "code",
   "execution_count": 106,
   "metadata": {},
   "outputs": [
    {
     "data": {
      "image/png": "[encoded data removed]",
      "text/plain": [
       "<matplotlib.figure.Figure at 0x219ca7352b0>"
      ]
     },
     "metadata": {},
     "output_type": "display_data"
    }
   ],
   "source": [
    "# plot dendrogram\n",
    "plt.figure()\n",
    "dendrogram(clustering)\n",
    "plt.show()"
   ]
  },
  {
   "cell_type": "code",
   "execution_count": 107,
   "metadata": {},
   "outputs": [
    {
     "name": "stdout",
     "output_type": "stream",
     "text": [
      "[1 1 1 ... 1 1 1]\n"
     ]
    }
   ],
   "source": [
    "# form clusters\n",
    "clusters = fcluster(clustering, 3, criterion = 'maxclust')\n",
    "print(clusters)"
   ]
  },
  {
   "cell_type": "code",
   "execution_count": 108,
   "metadata": {},
   "outputs": [],
   "source": [
    "# plot clusters\n",
    "x['clusters'] = clusters - 1"
   ]
  },
  {
   "cell_type": "code",
   "execution_count": 109,
   "metadata": {},
   "outputs": [
    {
     "data": {
      "image/png": "[encoded data removed]",
      "text/plain": [
       "<matplotlib.figure.Figure at 0x219cc001f98>"
      ]
     },
     "metadata": {},
     "output_type": "display_data"
    }
   ],
   "source": [
    "# plot contingency matrix\n",
    "cont_matrix = metrics.cluster.contingency_matrix(y, x['clusters'])\n",
    "sns.heatmap(cont_matrix, annot = True, fmt = \".3f\", square = True, cmap = plt.cm.Blues)\n",
    "plt.ylabel('Actual')\n",
    "plt.xlabel('Predicted')\n",
    "plt.title('Contingency matrix')\n",
    "plt.tight_layout()"
   ]
  },
  {
   "cell_type": "code",
   "execution_count": 110,
   "metadata": {},
   "outputs": [
    {
     "name": "stdout",
     "output_type": "stream",
     "text": [
      "0.043222499875730444\n"
     ]
    }
   ],
   "source": [
    "print(metrics.adjusted_rand_score(y,x['clusters']))"
   ]
  },
  {
   "cell_type": "code",
   "execution_count": 111,
   "metadata": {},
   "outputs": [
    {
     "name": "stdout",
     "output_type": "stream",
     "text": [
      "0.06218838168143503\n"
     ]
    }
   ],
   "source": [
    "# compute normalized mutual information\n",
    "print(metrics.normalized_mutual_info_score(y,x['clusters']))"
   ]
  },
  {
   "cell_type": "code",
   "execution_count": 112,
   "metadata": {},
   "outputs": [
    {
     "name": "stdout",
     "output_type": "stream",
     "text": [
      "0.7996417822024529\n"
     ]
    },
    {
     "name": "stderr",
     "output_type": "stream",
     "text": [
      "C:\\Users\\uthir\\Anaconda3\\lib\\site-packages\\sklearn\\utils\\validation.py:578: DataConversionWarning: A column-vector y was passed when a 1d array was expected. Please change the shape of y to (n_samples, ), for example using ravel().\n",
      "  y = column_or_1d(y, warn=True)\n"
     ]
    }
   ],
   "source": [
    "# compute silhouette coefficient\n",
    "print(metrics.silhouette_score(x,x[['clusters']], metric = \"euclidean\"))"
   ]
  },
  {
   "cell_type": "markdown",
   "metadata": {},
   "source": [
    "## From the supervised and unsupervised learning methods, Kernel SVM with RBF Kernel gives the best performance with the predictor variables selected as 'Percent White, not Hispanic or Latino', 'Percent White', 'Percent Housing Units in Multi-Unit Structures', 'Homeownership Rate'"
   ]
  },
  {
   "cell_type": "code",
   "execution_count": 125,
   "metadata": {},
   "outputs": [
    {
     "data": {
      "text/html": [
       "<div>\n",
       "<style scoped>\n",
       "    .dataframe tbody tr th:only-of-type {\n",
       "        vertical-align: middle;\n",
       "    }\n",
       "\n",
       "    .dataframe tbody tr th {\n",
       "        vertical-align: top;\n",
       "    }\n",
       "\n",
       "    .dataframe thead th {\n",
       "        text-align: right;\n",
       "    }\n",
       "</style>\n",
       "<table border=\"1\" class=\"dataframe\">\n",
       "  <thead>\n",
       "    <tr style=\"text-align: right;\">\n",
       "      <th></th>\n",
       "      <th>County</th>\n",
       "      <th>State</th>\n",
       "      <th>Democratic</th>\n",
       "      <th>Republican</th>\n",
       "      <th>Party</th>\n",
       "    </tr>\n",
       "  </thead>\n",
       "  <tbody>\n",
       "    <tr>\n",
       "      <th>0</th>\n",
       "      <td>Fremont</td>\n",
       "      <td>ID</td>\n",
       "      <td>-1104.849189</td>\n",
       "      <td>2302.382138</td>\n",
       "      <td>Republican</td>\n",
       "    </tr>\n",
       "    <tr>\n",
       "      <th>1</th>\n",
       "      <td>Love</td>\n",
       "      <td>OK</td>\n",
       "      <td>-1104.839056</td>\n",
       "      <td>2302.352885</td>\n",
       "      <td>Republican</td>\n",
       "    </tr>\n",
       "    <tr>\n",
       "      <th>2</th>\n",
       "      <td>Fayette</td>\n",
       "      <td>PA</td>\n",
       "      <td>-1105.191219</td>\n",
       "      <td>2303.088902</td>\n",
       "      <td>Republican</td>\n",
       "    </tr>\n",
       "    <tr>\n",
       "      <th>3</th>\n",
       "      <td>Dent</td>\n",
       "      <td>MO</td>\n",
       "      <td>-1104.873506</td>\n",
       "      <td>2302.404072</td>\n",
       "      <td>Republican</td>\n",
       "    </tr>\n",
       "    <tr>\n",
       "      <th>4</th>\n",
       "      <td>Monroe</td>\n",
       "      <td>MI</td>\n",
       "      <td>-1105.107160</td>\n",
       "      <td>2303.035688</td>\n",
       "      <td>Republican</td>\n",
       "    </tr>\n",
       "    <tr>\n",
       "      <th>5</th>\n",
       "      <td>Ellis</td>\n",
       "      <td>OK</td>\n",
       "      <td>-1104.832303</td>\n",
       "      <td>2302.333238</td>\n",
       "      <td>Republican</td>\n",
       "    </tr>\n",
       "    <tr>\n",
       "      <th>6</th>\n",
       "      <td>Red Willow</td>\n",
       "      <td>NE</td>\n",
       "      <td>-1104.852323</td>\n",
       "      <td>2302.374379</td>\n",
       "      <td>Republican</td>\n",
       "    </tr>\n",
       "    <tr>\n",
       "      <th>7</th>\n",
       "      <td>Trempealeau</td>\n",
       "      <td>WI</td>\n",
       "      <td>-1104.870255</td>\n",
       "      <td>2302.444739</td>\n",
       "      <td>Republican</td>\n",
       "    </tr>\n",
       "    <tr>\n",
       "      <th>8</th>\n",
       "      <td>Covington</td>\n",
       "      <td>VA</td>\n",
       "      <td>-1104.848598</td>\n",
       "      <td>2302.353859</td>\n",
       "      <td>Republican</td>\n",
       "    </tr>\n",
       "    <tr>\n",
       "      <th>9</th>\n",
       "      <td>Fulton</td>\n",
       "      <td>AR</td>\n",
       "      <td>-1104.859915</td>\n",
       "      <td>2302.388659</td>\n",
       "      <td>Republican</td>\n",
       "    </tr>\n",
       "    <tr>\n",
       "      <th>10</th>\n",
       "      <td>Baker</td>\n",
       "      <td>GA</td>\n",
       "      <td>-1104.820535</td>\n",
       "      <td>2302.319791</td>\n",
       "      <td>Democratic</td>\n",
       "    </tr>\n",
       "    <tr>\n",
       "      <th>11</th>\n",
       "      <td>Hillsborough</td>\n",
       "      <td>NH</td>\n",
       "      <td>-1106.062105</td>\n",
       "      <td>2304.595775</td>\n",
       "      <td>Democratic</td>\n",
       "    </tr>\n",
       "    <tr>\n",
       "      <th>12</th>\n",
       "      <td>Williamson</td>\n",
       "      <td>IL</td>\n",
       "      <td>-1105.055832</td>\n",
       "      <td>2302.732146</td>\n",
       "      <td>Republican</td>\n",
       "    </tr>\n",
       "    <tr>\n",
       "      <th>13</th>\n",
       "      <td>Suffolk</td>\n",
       "      <td>VA</td>\n",
       "      <td>-1105.241100</td>\n",
       "      <td>2302.921275</td>\n",
       "      <td>Republican</td>\n",
       "    </tr>\n",
       "    <tr>\n",
       "      <th>14</th>\n",
       "      <td>Sullivan</td>\n",
       "      <td>IN</td>\n",
       "      <td>-1104.853357</td>\n",
       "      <td>2302.401139</td>\n",
       "      <td>Republican</td>\n",
       "    </tr>\n",
       "    <tr>\n",
       "      <th>15</th>\n",
       "      <td>Lee</td>\n",
       "      <td>IL</td>\n",
       "      <td>-1104.905630</td>\n",
       "      <td>2302.494729</td>\n",
       "      <td>Republican</td>\n",
       "    </tr>\n",
       "    <tr>\n",
       "      <th>16</th>\n",
       "      <td>Klickitat</td>\n",
       "      <td>WA</td>\n",
       "      <td>-1104.886245</td>\n",
       "      <td>2302.433658</td>\n",
       "      <td>Republican</td>\n",
       "    </tr>\n",
       "    <tr>\n",
       "      <th>17</th>\n",
       "      <td>Jennings</td>\n",
       "      <td>IN</td>\n",
       "      <td>-1104.878238</td>\n",
       "      <td>2302.446682</td>\n",
       "      <td>Republican</td>\n",
       "    </tr>\n",
       "    <tr>\n",
       "      <th>18</th>\n",
       "      <td>Logan</td>\n",
       "      <td>OH</td>\n",
       "      <td>-1104.910191</td>\n",
       "      <td>2302.544780</td>\n",
       "      <td>Republican</td>\n",
       "    </tr>\n",
       "    <tr>\n",
       "      <th>19</th>\n",
       "      <td>Cass</td>\n",
       "      <td>IL</td>\n",
       "      <td>-1104.846253</td>\n",
       "      <td>2302.373279</td>\n",
       "      <td>Republican</td>\n",
       "    </tr>\n",
       "    <tr>\n",
       "      <th>20</th>\n",
       "      <td>Dane</td>\n",
       "      <td>WI</td>\n",
       "      <td>-1105.505577</td>\n",
       "      <td>2304.492209</td>\n",
       "      <td>Democratic</td>\n",
       "    </tr>\n",
       "    <tr>\n",
       "      <th>21</th>\n",
       "      <td>Waldo</td>\n",
       "      <td>ME</td>\n",
       "      <td>-1104.956881</td>\n",
       "      <td>2302.573430</td>\n",
       "      <td>Republican</td>\n",
       "    </tr>\n",
       "    <tr>\n",
       "      <th>22</th>\n",
       "      <td>Liberty</td>\n",
       "      <td>TX</td>\n",
       "      <td>-1104.989702</td>\n",
       "      <td>2302.653691</td>\n",
       "      <td>Republican</td>\n",
       "    </tr>\n",
       "    <tr>\n",
       "      <th>23</th>\n",
       "      <td>McDowell</td>\n",
       "      <td>NC</td>\n",
       "      <td>-1104.931778</td>\n",
       "      <td>2302.550520</td>\n",
       "      <td>Republican</td>\n",
       "    </tr>\n",
       "    <tr>\n",
       "      <th>24</th>\n",
       "      <td>Mills</td>\n",
       "      <td>TX</td>\n",
       "      <td>-1104.840098</td>\n",
       "      <td>2302.342085</td>\n",
       "      <td>Republican</td>\n",
       "    </tr>\n",
       "    <tr>\n",
       "      <th>25</th>\n",
       "      <td>Floyd</td>\n",
       "      <td>GA</td>\n",
       "      <td>-1105.049954</td>\n",
       "      <td>2302.793626</td>\n",
       "      <td>Republican</td>\n",
       "    </tr>\n",
       "    <tr>\n",
       "      <th>26</th>\n",
       "      <td>Walworth</td>\n",
       "      <td>WI</td>\n",
       "      <td>-1105.008466</td>\n",
       "      <td>2302.816728</td>\n",
       "      <td>Republican</td>\n",
       "    </tr>\n",
       "    <tr>\n",
       "      <th>27</th>\n",
       "      <td>Barry</td>\n",
       "      <td>MI</td>\n",
       "      <td>-1104.927459</td>\n",
       "      <td>2302.593114</td>\n",
       "      <td>Republican</td>\n",
       "    </tr>\n",
       "    <tr>\n",
       "      <th>28</th>\n",
       "      <td>Buffalo</td>\n",
       "      <td>WI</td>\n",
       "      <td>-1104.842661</td>\n",
       "      <td>2302.376762</td>\n",
       "      <td>Republican</td>\n",
       "    </tr>\n",
       "    <tr>\n",
       "      <th>29</th>\n",
       "      <td>Murray</td>\n",
       "      <td>GA</td>\n",
       "      <td>-1104.845886</td>\n",
       "      <td>2302.445061</td>\n",
       "      <td>Republican</td>\n",
       "    </tr>\n",
       "    <tr>\n",
       "      <th>...</th>\n",
       "      <td>...</td>\n",
       "      <td>...</td>\n",
       "      <td>...</td>\n",
       "      <td>...</td>\n",
       "      <td>...</td>\n",
       "    </tr>\n",
       "    <tr>\n",
       "      <th>682</th>\n",
       "      <td>Otoe</td>\n",
       "      <td>NE</td>\n",
       "      <td>-1104.852355</td>\n",
       "      <td>2302.387763</td>\n",
       "      <td>Republican</td>\n",
       "    </tr>\n",
       "    <tr>\n",
       "      <th>683</th>\n",
       "      <td>Carter</td>\n",
       "      <td>OK</td>\n",
       "      <td>-1104.979413</td>\n",
       "      <td>2302.589438</td>\n",
       "      <td>Republican</td>\n",
       "    </tr>\n",
       "    <tr>\n",
       "      <th>684</th>\n",
       "      <td>Oconto</td>\n",
       "      <td>WI</td>\n",
       "      <td>-1104.917117</td>\n",
       "      <td>2302.542890</td>\n",
       "      <td>Republican</td>\n",
       "    </tr>\n",
       "    <tr>\n",
       "      <th>685</th>\n",
       "      <td>Bell</td>\n",
       "      <td>TX</td>\n",
       "      <td>-1106.710059</td>\n",
       "      <td>2304.805797</td>\n",
       "      <td>Republican</td>\n",
       "    </tr>\n",
       "    <tr>\n",
       "      <th>686</th>\n",
       "      <td>Telfair</td>\n",
       "      <td>GA</td>\n",
       "      <td>-1104.842900</td>\n",
       "      <td>2302.375440</td>\n",
       "      <td>Republican</td>\n",
       "    </tr>\n",
       "    <tr>\n",
       "      <th>687</th>\n",
       "      <td>Platte</td>\n",
       "      <td>NE</td>\n",
       "      <td>-1104.898733</td>\n",
       "      <td>2302.474141</td>\n",
       "      <td>Republican</td>\n",
       "    </tr>\n",
       "    <tr>\n",
       "      <th>688</th>\n",
       "      <td>Sampson</td>\n",
       "      <td>NC</td>\n",
       "      <td>-1104.932597</td>\n",
       "      <td>2302.596626</td>\n",
       "      <td>Republican</td>\n",
       "    </tr>\n",
       "    <tr>\n",
       "      <th>689</th>\n",
       "      <td>Kershaw</td>\n",
       "      <td>SC</td>\n",
       "      <td>-1104.985954</td>\n",
       "      <td>2302.649174</td>\n",
       "      <td>Republican</td>\n",
       "    </tr>\n",
       "    <tr>\n",
       "      <th>690</th>\n",
       "      <td>Menominee</td>\n",
       "      <td>WI</td>\n",
       "      <td>-1104.834804</td>\n",
       "      <td>2302.332038</td>\n",
       "      <td>Democratic</td>\n",
       "    </tr>\n",
       "    <tr>\n",
       "      <th>691</th>\n",
       "      <td>Conecuh</td>\n",
       "      <td>AL</td>\n",
       "      <td>-1104.850402</td>\n",
       "      <td>2302.380961</td>\n",
       "      <td>Republican</td>\n",
       "    </tr>\n",
       "    <tr>\n",
       "      <th>692</th>\n",
       "      <td>Oregon</td>\n",
       "      <td>MO</td>\n",
       "      <td>-1104.856949</td>\n",
       "      <td>2302.378239</td>\n",
       "      <td>Republican</td>\n",
       "    </tr>\n",
       "    <tr>\n",
       "      <th>693</th>\n",
       "      <td>Atchison</td>\n",
       "      <td>MO</td>\n",
       "      <td>-1104.844621</td>\n",
       "      <td>2302.350167</td>\n",
       "      <td>Republican</td>\n",
       "    </tr>\n",
       "    <tr>\n",
       "      <th>694</th>\n",
       "      <td>Otero</td>\n",
       "      <td>NM</td>\n",
       "      <td>-1105.165428</td>\n",
       "      <td>2302.816155</td>\n",
       "      <td>Republican</td>\n",
       "    </tr>\n",
       "    <tr>\n",
       "      <th>695</th>\n",
       "      <td>Logan</td>\n",
       "      <td>OK</td>\n",
       "      <td>-1104.932323</td>\n",
       "      <td>2302.520183</td>\n",
       "      <td>Republican</td>\n",
       "    </tr>\n",
       "    <tr>\n",
       "      <th>696</th>\n",
       "      <td>Roanoke City</td>\n",
       "      <td>VA</td>\n",
       "      <td>-1105.125236</td>\n",
       "      <td>2302.911092</td>\n",
       "      <td>Republican</td>\n",
       "    </tr>\n",
       "    <tr>\n",
       "      <th>697</th>\n",
       "      <td>Northampton</td>\n",
       "      <td>NC</td>\n",
       "      <td>-1104.839838</td>\n",
       "      <td>2302.405826</td>\n",
       "      <td>Democratic</td>\n",
       "    </tr>\n",
       "    <tr>\n",
       "      <th>698</th>\n",
       "      <td>Wilkes</td>\n",
       "      <td>NC</td>\n",
       "      <td>-1104.940101</td>\n",
       "      <td>2302.645135</td>\n",
       "      <td>Republican</td>\n",
       "    </tr>\n",
       "    <tr>\n",
       "      <th>699</th>\n",
       "      <td>Douglas</td>\n",
       "      <td>NE</td>\n",
       "      <td>-1105.952385</td>\n",
       "      <td>2304.872532</td>\n",
       "      <td>Republican</td>\n",
       "    </tr>\n",
       "    <tr>\n",
       "      <th>700</th>\n",
       "      <td>Dallas</td>\n",
       "      <td>MO</td>\n",
       "      <td>-1104.872918</td>\n",
       "      <td>2302.408346</td>\n",
       "      <td>Republican</td>\n",
       "    </tr>\n",
       "    <tr>\n",
       "      <th>701</th>\n",
       "      <td>Garfield</td>\n",
       "      <td>WA</td>\n",
       "      <td>-1104.832389</td>\n",
       "      <td>2302.326643</td>\n",
       "      <td>Republican</td>\n",
       "    </tr>\n",
       "    <tr>\n",
       "      <th>702</th>\n",
       "      <td>Franklin</td>\n",
       "      <td>NC</td>\n",
       "      <td>-1104.908984</td>\n",
       "      <td>2302.573587</td>\n",
       "      <td>Republican</td>\n",
       "    </tr>\n",
       "    <tr>\n",
       "      <th>703</th>\n",
       "      <td>Clinton</td>\n",
       "      <td>OH</td>\n",
       "      <td>-1104.949927</td>\n",
       "      <td>2302.551791</td>\n",
       "      <td>Republican</td>\n",
       "    </tr>\n",
       "    <tr>\n",
       "      <th>704</th>\n",
       "      <td>Stokes</td>\n",
       "      <td>NC</td>\n",
       "      <td>-1104.861737</td>\n",
       "      <td>2302.504981</td>\n",
       "      <td>Republican</td>\n",
       "    </tr>\n",
       "    <tr>\n",
       "      <th>705</th>\n",
       "      <td>Rhea</td>\n",
       "      <td>TN</td>\n",
       "      <td>-1104.867149</td>\n",
       "      <td>2302.447993</td>\n",
       "      <td>Republican</td>\n",
       "    </tr>\n",
       "    <tr>\n",
       "      <th>706</th>\n",
       "      <td>Runnels</td>\n",
       "      <td>TX</td>\n",
       "      <td>-1104.855163</td>\n",
       "      <td>2302.372068</td>\n",
       "      <td>Republican</td>\n",
       "    </tr>\n",
       "    <tr>\n",
       "      <th>707</th>\n",
       "      <td>Oakland</td>\n",
       "      <td>MI</td>\n",
       "      <td>-1106.593165</td>\n",
       "      <td>2307.666113</td>\n",
       "      <td>Republican</td>\n",
       "    </tr>\n",
       "    <tr>\n",
       "      <th>708</th>\n",
       "      <td>McPherson</td>\n",
       "      <td>SD</td>\n",
       "      <td>-1104.829621</td>\n",
       "      <td>2302.325117</td>\n",
       "      <td>Republican</td>\n",
       "    </tr>\n",
       "    <tr>\n",
       "      <th>709</th>\n",
       "      <td>Crawford</td>\n",
       "      <td>IL</td>\n",
       "      <td>-1104.874077</td>\n",
       "      <td>2302.418892</td>\n",
       "      <td>Republican</td>\n",
       "    </tr>\n",
       "    <tr>\n",
       "      <th>710</th>\n",
       "      <td>Marion</td>\n",
       "      <td>IA</td>\n",
       "      <td>-1104.889715</td>\n",
       "      <td>2302.470527</td>\n",
       "      <td>Republican</td>\n",
       "    </tr>\n",
       "    <tr>\n",
       "      <th>711</th>\n",
       "      <td>White</td>\n",
       "      <td>GA</td>\n",
       "      <td>-1104.883603</td>\n",
       "      <td>2302.467166</td>\n",
       "      <td>Republican</td>\n",
       "    </tr>\n",
       "  </tbody>\n",
       "</table>\n",
       "<p>712 rows × 5 columns</p>\n",
       "</div>"
      ],
      "text/plain": [
       "           County State   Democratic   Republican       Party\n",
       "0         Fremont    ID -1104.849189  2302.382138  Republican\n",
       "1            Love    OK -1104.839056  2302.352885  Republican\n",
       "2         Fayette    PA -1105.191219  2303.088902  Republican\n",
       "3            Dent    MO -1104.873506  2302.404072  Republican\n",
       "4          Monroe    MI -1105.107160  2303.035688  Republican\n",
       "5           Ellis    OK -1104.832303  2302.333238  Republican\n",
       "6      Red Willow    NE -1104.852323  2302.374379  Republican\n",
       "7     Trempealeau    WI -1104.870255  2302.444739  Republican\n",
       "8       Covington    VA -1104.848598  2302.353859  Republican\n",
       "9          Fulton    AR -1104.859915  2302.388659  Republican\n",
       "10          Baker    GA -1104.820535  2302.319791  Democratic\n",
       "11   Hillsborough    NH -1106.062105  2304.595775  Democratic\n",
       "12     Williamson    IL -1105.055832  2302.732146  Republican\n",
       "13        Suffolk    VA -1105.241100  2302.921275  Republican\n",
       "14       Sullivan    IN -1104.853357  2302.401139  Republican\n",
       "15            Lee    IL -1104.905630  2302.494729  Republican\n",
       "16      Klickitat    WA -1104.886245  2302.433658  Republican\n",
       "17       Jennings    IN -1104.878238  2302.446682  Republican\n",
       "18          Logan    OH -1104.910191  2302.544780  Republican\n",
       "19           Cass    IL -1104.846253  2302.373279  Republican\n",
       "20           Dane    WI -1105.505577  2304.492209  Democratic\n",
       "21          Waldo    ME -1104.956881  2302.573430  Republican\n",
       "22        Liberty    TX -1104.989702  2302.653691  Republican\n",
       "23       McDowell    NC -1104.931778  2302.550520  Republican\n",
       "24          Mills    TX -1104.840098  2302.342085  Republican\n",
       "25          Floyd    GA -1105.049954  2302.793626  Republican\n",
       "26       Walworth    WI -1105.008466  2302.816728  Republican\n",
       "27          Barry    MI -1104.927459  2302.593114  Republican\n",
       "28        Buffalo    WI -1104.842661  2302.376762  Republican\n",
       "29         Murray    GA -1104.845886  2302.445061  Republican\n",
       "..            ...   ...          ...          ...         ...\n",
       "682          Otoe    NE -1104.852355  2302.387763  Republican\n",
       "683        Carter    OK -1104.979413  2302.589438  Republican\n",
       "684        Oconto    WI -1104.917117  2302.542890  Republican\n",
       "685          Bell    TX -1106.710059  2304.805797  Republican\n",
       "686       Telfair    GA -1104.842900  2302.375440  Republican\n",
       "687        Platte    NE -1104.898733  2302.474141  Republican\n",
       "688       Sampson    NC -1104.932597  2302.596626  Republican\n",
       "689       Kershaw    SC -1104.985954  2302.649174  Republican\n",
       "690     Menominee    WI -1104.834804  2302.332038  Democratic\n",
       "691       Conecuh    AL -1104.850402  2302.380961  Republican\n",
       "692        Oregon    MO -1104.856949  2302.378239  Republican\n",
       "693      Atchison    MO -1104.844621  2302.350167  Republican\n",
       "694         Otero    NM -1105.165428  2302.816155  Republican\n",
       "695         Logan    OK -1104.932323  2302.520183  Republican\n",
       "696  Roanoke City    VA -1105.125236  2302.911092  Republican\n",
       "697   Northampton    NC -1104.839838  2302.405826  Democratic\n",
       "698        Wilkes    NC -1104.940101  2302.645135  Republican\n",
       "699       Douglas    NE -1105.952385  2304.872532  Republican\n",
       "700        Dallas    MO -1104.872918  2302.408346  Republican\n",
       "701      Garfield    WA -1104.832389  2302.326643  Republican\n",
       "702      Franklin    NC -1104.908984  2302.573587  Republican\n",
       "703       Clinton    OH -1104.949927  2302.551791  Republican\n",
       "704        Stokes    NC -1104.861737  2302.504981  Republican\n",
       "705          Rhea    TN -1104.867149  2302.447993  Republican\n",
       "706       Runnels    TX -1104.855163  2302.372068  Republican\n",
       "707       Oakland    MI -1106.593165  2307.666113  Republican\n",
       "708     McPherson    SD -1104.829621  2302.325117  Republican\n",
       "709      Crawford    IL -1104.874077  2302.418892  Republican\n",
       "710        Marion    IA -1104.889715  2302.470527  Republican\n",
       "711         White    GA -1104.883603  2302.467166  Republican\n",
       "\n",
       "[712 rows x 5 columns]"
      ]
     },
     "execution_count": 125,
     "metadata": {},
     "output_type": "execute_result"
    }
   ],
   "source": [
    "import numpy as np\n",
    "\n",
    "data_test = pd.read_csv('demographics_test.csv')\n",
    "data_test_X = data_test[['Percent White, not Hispanic or Latino', 'Percent White', 'Percent Housing Units in Multi-Unit Structures', 'Homeownership Rate']]\n",
    "\n",
    "data_test_Xdem = data_test[['2010 Population', 'Households', '2014 Population', 'Housing Units', 'Retail Sales', 'Veterans']]\n",
    "\n",
    "data_test_Xrep = data_test[['Veterans', 'Housing Units', 'Retail Sales', 'Households', '2014 Population']]\n",
    "\n",
    "scaler = StandardScaler()\n",
    "scaler.fit(data_test_X)\n",
    "data_test_X = scaler.transform(data_test_X)\n",
    "\n",
    "scaler.fit(data_test_Xdem)\n",
    "data_test_Xdem = scaler.transform(data_test_Xdem)\n",
    "\n",
    "scaler.fit(data_test_Xrep)\n",
    "data_test_Xrep = scaler.transform(data_test_Xrep)\n",
    "\n",
    "y_pred_dem = best_dems.predict(data_test_Xdem)\n",
    "\n",
    "y_pred_rep = best_repb.predict(data_test_Xrep)\n",
    "\n",
    "y_pred = bestModel.predict(data_test_X)\n",
    "\n",
    "data_test['Party'] = np.where(y_pred==1, 'Democratic', 'Republican')\n",
    "data_test['Democratic'] = y_pred_dem\n",
    "data_test['Republican'] = y_pred_rep\n",
    "output = data_test[['County','State','Democratic','Republican','Party']]\n",
    "output.to_csv('output_uthiraa_saket.csv',index=False,sep=',',encoding='utf-8')\n",
    "output.head(1000)"
   ]
  },
  {
   "cell_type": "code",
   "execution_count": null,
   "metadata": {},
   "outputs": [],
   "source": [
    "import plotly.plotly as py\n",
    "import plotly.figure_factory as ff\n",
    "\n",
    "import numpy as np\n",
    "import re\n",
    "import pandas as pd\n",
    "\n",
    "df_sample = pd.read_csv('https://raw.githubusercontent.com/plotly/datasets/master/laucnty16.csv')\n",
    "df_sample['State FIPS Code'] = df_sample['State FIPS Code'].apply(lambda x: str(x).zfill(2))\n",
    "df_sample['County FIPS Code'] = df_sample['County FIPS Code'].apply(lambda x: str(x).zfill(3))\n",
    "df_sample['County'] = df_sample['County Name/State Abbreviation'].str.split(',').str[0].apply(lambda x: re.sub(r\"\\s\\w*County|\\s\\w+\\s+Plt\\.$|\\s\\w*Parish|\\b\\w*City\", \"\", x))\n",
    "df_sample['State'] = df_sample['County Name/State Abbreviation'].str.split(',').str[1].str.strip()\n",
    "df_sample['FIPS'] = df_sample['State FIPS Code'] + df_sample['County FIPS Code']\n",
    "\n",
    "map_data = pd.merge(df_sample,data_train[['County','State','Party']],left_on=['County','State'], right_on =['County','State'],how='left')\n",
    "map_data['Party'] = map_data['Party'].fillna(2).astype(np.int64)\n",
    "\n",
    "\n",
    "colorscale = [\"#ff0000\",\"#0000ff\",\"#00ff00\",\"#000000\"]\n",
    "endpts = list(np.linspace(0,2, len(colorscale)-1))\n",
    "fips = map_data['FIPS'].tolist()\n",
    "values = map_data['Party'].tolist()\n",
    "\n",
    "\n",
    "fig = ff.create_choropleth(\n",
    "    fips=fips, values=values,\n",
    "    binning_endpoints=endpts,\n",
    "    colorscale=colorscale,\n",
    "    show_state_data=False,\n",
    "    show_hover=True, centroid_marker={'opacity': 0},\n",
    "    asp=2.9, title='USA by Election',\n",
    "    legend_title='party'\n",
    ")\n",
    "py.iplot(fig, filename='choropleth_full_usa')"
   ]
  },
  {
   "cell_type": "code",
   "execution_count": null,
   "metadata": {},
   "outputs": [],
   "source": [
    "# TASK 9\n",
    "import plotly.plotly as py\n",
    "import plotly.figure_factory as ff\n",
    "\n",
    "import numpy as np\n",
    "import pandas as pd\n",
    "\n",
    "\n",
    "output['Party_code'] = np.where(y_pred=='Democratic', 1, 0)\n",
    "\n",
    "df_sample = pd.read_csv('https://raw.githubusercontent.com/plotly/datasets/master/laucnty16.csv')\n",
    "df_sample['State FIPS Code'] = df_sample['State FIPS Code'].apply(lambda x: str(x).zfill(2))\n",
    "df_sample['County FIPS Code'] = df_sample['County FIPS Code'].apply(lambda x: str(x).zfill(3))\n",
    "df_sample['County'] = df_sample['County Name/State Abbreviation'].str.split(',').str[0].apply(lambda x: re.sub(r\"\\s\\w*County|\\s\\w+\\s+Plt\\.$|\\s\\w*Parish|\\b\\w*City\", \"\", x))\n",
    "df_sample['State'] = df_sample['County Name/State Abbreviation'].str.split(',').str[1].str.strip()\n",
    "df_sample['FIPS'] = df_sample['State FIPS Code'] + df_sample['County FIPS Code']\n",
    "\n",
    "map_data = pd.merge(df_sample,output[['County','State','Party_code']],left_on=['County','State'], right_on =['County','State'],how='left')\n",
    "map_data['Party_code'] = map_data['Party_code'].fillna(2).astype(np.int64)\n",
    "\n",
    "\n",
    "colorscale = [\"#ff0000\",\"#0000ff\",\"#00ff00\",\"#000000\"]\n",
    "endpts = list(np.linspace(0,2, len(colorscale)-1))\n",
    "fips = map_data['FIPS'].tolist()\n",
    "values = map_data['Party_code'].tolist()\n",
    "\n",
    "\n",
    "fig = ff.create_choropleth(\n",
    "    fips=fips, values=values,\n",
    "    binning_endpoints=endpts,\n",
    "    colorscale=colorscale,\n",
    "    show_state_data=False,\n",
    "    show_hover=True, centroid_marker={'opacity': 0},\n",
    "    asp=2.9, title='USA by Election',\n",
    "    legend_title='party'\n",
    ")\n",
    "py.iplot(fig, filename='choropleth_full_usa')"
   ]
  },
  {
   "cell_type": "code",
   "execution_count": null,
   "metadata": {},
   "outputs": [],
   "source": []
  },
  {
   "cell_type": "code",
   "execution_count": null,
   "metadata": {},
   "outputs": [],
   "source": []
  },
  {
   "cell_type": "code",
   "execution_count": null,
   "metadata": {},
   "outputs": [],
   "source": []
  }
 ],
 "metadata": {
  "kernelspec": {
   "display_name": "Python 3",
   "language": "python",
   "name": "python3"
  },
  "language_info": {
   "codemirror_mode": {
    "name": "ipython",
    "version": 3
   },
   "file_extension": ".py",
   "mimetype": "text/x-python",
   "name": "python",
   "nbconvert_exporter": "python",
   "pygments_lexer": "ipython3",
   "version": "3.6.4"
  }
 },
 "nbformat": 4,
 "nbformat_minor": 2
}
